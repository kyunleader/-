{
 "cells": [
  {
   "cell_type": "markdown",
   "id": "6cdfd69b",
   "metadata": {},
   "source": [
    "# 데이터 분석\n",
    "\n",
    "## t - test"
   ]
  },
  {
   "cell_type": "code",
   "execution_count": 1,
   "id": "69c78c17",
   "metadata": {},
   "outputs": [
    {
     "ename": "SyntaxError",
     "evalue": "invalid syntax (<ipython-input-1-38ea9909ffe7>, line 2)",
     "output_type": "error",
     "traceback": [
      "\u001b[1;36m  File \u001b[1;32m\"<ipython-input-1-38ea9909ffe7>\"\u001b[1;36m, line \u001b[1;32m2\u001b[0m\n\u001b[1;33m    pip install scipy\u001b[0m\n\u001b[1;37m        ^\u001b[0m\n\u001b[1;31mSyntaxError\u001b[0m\u001b[1;31m:\u001b[0m invalid syntax\n"
     ]
    }
   ],
   "source": [
    "# 통계 검정에 필요한 패키지 다운\n",
    "pip install scipy"
   ]
  },
  {
   "cell_type": "code",
   "execution_count": 2,
   "id": "536e84c4",
   "metadata": {},
   "outputs": [],
   "source": [
    "#필요한 패키지 임포트\n",
    "import pandas as pd\n",
    "from scipy import stats\n",
    "import matplotlib.pyplot as plt\n",
    "import seaborn as sns"
   ]
  },
  {
   "cell_type": "code",
   "execution_count": 3,
   "id": "cf03c51e",
   "metadata": {},
   "outputs": [
    {
     "data": {
      "text/html": [
       "<div>\n",
       "<style scoped>\n",
       "    .dataframe tbody tr th:only-of-type {\n",
       "        vertical-align: middle;\n",
       "    }\n",
       "\n",
       "    .dataframe tbody tr th {\n",
       "        vertical-align: top;\n",
       "    }\n",
       "\n",
       "    .dataframe thead th {\n",
       "        text-align: right;\n",
       "    }\n",
       "</style>\n",
       "<table border=\"1\" class=\"dataframe\">\n",
       "  <thead>\n",
       "    <tr style=\"text-align: right;\">\n",
       "      <th></th>\n",
       "      <th>case</th>\n",
       "      <th>sex</th>\n",
       "      <th>army</th>\n",
       "      <th>age</th>\n",
       "      <th>grade</th>\n",
       "      <th>couple</th>\n",
       "      <th>live</th>\n",
       "      <th>eat</th>\n",
       "      <th>entertainment</th>\n",
       "      <th>fashion/shopping</th>\n",
       "      <th>...</th>\n",
       "      <th>10_6</th>\n",
       "      <th>10_7</th>\n",
       "      <th>10_8</th>\n",
       "      <th>10_9</th>\n",
       "      <th>10_10</th>\n",
       "      <th>10_11</th>\n",
       "      <th>11</th>\n",
       "      <th>12</th>\n",
       "      <th>13</th>\n",
       "      <th>14</th>\n",
       "    </tr>\n",
       "  </thead>\n",
       "  <tbody>\n",
       "    <tr>\n",
       "      <th>0</th>\n",
       "      <td>1</td>\n",
       "      <td>2</td>\n",
       "      <td>2</td>\n",
       "      <td>20</td>\n",
       "      <td>3</td>\n",
       "      <td>2</td>\n",
       "      <td>2</td>\n",
       "      <td>10.0</td>\n",
       "      <td>5.0</td>\n",
       "      <td>20.0</td>\n",
       "      <td>...</td>\n",
       "      <td>0</td>\n",
       "      <td>1</td>\n",
       "      <td>0.0</td>\n",
       "      <td>0</td>\n",
       "      <td>1</td>\n",
       "      <td>0</td>\n",
       "      <td>3</td>\n",
       "      <td>3</td>\n",
       "      <td>5</td>\n",
       "      <td>4</td>\n",
       "    </tr>\n",
       "    <tr>\n",
       "      <th>1</th>\n",
       "      <td>2</td>\n",
       "      <td>2</td>\n",
       "      <td>3</td>\n",
       "      <td>23</td>\n",
       "      <td>3</td>\n",
       "      <td>2</td>\n",
       "      <td>1</td>\n",
       "      <td>15.0</td>\n",
       "      <td>0.0</td>\n",
       "      <td>10.0</td>\n",
       "      <td>...</td>\n",
       "      <td>1</td>\n",
       "      <td>0</td>\n",
       "      <td>0.0</td>\n",
       "      <td>0</td>\n",
       "      <td>0</td>\n",
       "      <td>0</td>\n",
       "      <td>6</td>\n",
       "      <td>5</td>\n",
       "      <td>4</td>\n",
       "      <td>9</td>\n",
       "    </tr>\n",
       "    <tr>\n",
       "      <th>2</th>\n",
       "      <td>3</td>\n",
       "      <td>1</td>\n",
       "      <td>1</td>\n",
       "      <td>21</td>\n",
       "      <td>2</td>\n",
       "      <td>2</td>\n",
       "      <td>1</td>\n",
       "      <td>20.0</td>\n",
       "      <td>10.0</td>\n",
       "      <td>10.0</td>\n",
       "      <td>...</td>\n",
       "      <td>0</td>\n",
       "      <td>0</td>\n",
       "      <td>0.0</td>\n",
       "      <td>0</td>\n",
       "      <td>0</td>\n",
       "      <td>0</td>\n",
       "      <td>3</td>\n",
       "      <td>5</td>\n",
       "      <td>8</td>\n",
       "      <td>3</td>\n",
       "    </tr>\n",
       "    <tr>\n",
       "      <th>3</th>\n",
       "      <td>4</td>\n",
       "      <td>2</td>\n",
       "      <td>3</td>\n",
       "      <td>20</td>\n",
       "      <td>2</td>\n",
       "      <td>2</td>\n",
       "      <td>2</td>\n",
       "      <td>10.0</td>\n",
       "      <td>0.0</td>\n",
       "      <td>2.0</td>\n",
       "      <td>...</td>\n",
       "      <td>0</td>\n",
       "      <td>0</td>\n",
       "      <td>0.0</td>\n",
       "      <td>0</td>\n",
       "      <td>0</td>\n",
       "      <td>1</td>\n",
       "      <td>8</td>\n",
       "      <td>7</td>\n",
       "      <td>2</td>\n",
       "      <td>2</td>\n",
       "    </tr>\n",
       "    <tr>\n",
       "      <th>4</th>\n",
       "      <td>5</td>\n",
       "      <td>1</td>\n",
       "      <td>1</td>\n",
       "      <td>25</td>\n",
       "      <td>4</td>\n",
       "      <td>2</td>\n",
       "      <td>1</td>\n",
       "      <td>20.0</td>\n",
       "      <td>10.0</td>\n",
       "      <td>0.0</td>\n",
       "      <td>...</td>\n",
       "      <td>0</td>\n",
       "      <td>0</td>\n",
       "      <td>0.0</td>\n",
       "      <td>0</td>\n",
       "      <td>0</td>\n",
       "      <td>1</td>\n",
       "      <td>7</td>\n",
       "      <td>6</td>\n",
       "      <td>4</td>\n",
       "      <td>5</td>\n",
       "    </tr>\n",
       "  </tbody>\n",
       "</table>\n",
       "<p>5 rows × 43 columns</p>\n",
       "</div>"
      ],
      "text/plain": [
       "   case  sex  army  age  grade  couple  live   eat  entertainment  \\\n",
       "0     1    2     2   20      3       2     2  10.0            5.0   \n",
       "1     2    2     3   23      3       2     1  15.0            0.0   \n",
       "2     3    1     1   21      2       2     1  20.0           10.0   \n",
       "3     4    2     3   20      2       2     2  10.0            0.0   \n",
       "4     5    1     1   25      4       2     1  20.0           10.0   \n",
       "\n",
       "   fashion/shopping  ...  10_6  10_7  10_8  10_9  10_10  10_11  11  12  13  14  \n",
       "0              20.0  ...     0     1   0.0     0      1      0   3   3   5   4  \n",
       "1              10.0  ...     1     0   0.0     0      0      0   6   5   4   9  \n",
       "2              10.0  ...     0     0   0.0     0      0      0   3   5   8   3  \n",
       "3               2.0  ...     0     0   0.0     0      0      1   8   7   2   2  \n",
       "4               0.0  ...     0     0   0.0     0      0      1   7   6   4   5  \n",
       "\n",
       "[5 rows x 43 columns]"
      ]
     },
     "execution_count": 3,
     "metadata": {},
     "output_type": "execute_result"
    }
   ],
   "source": [
    "# 데이터 불러오기\n",
    "data = pd.read_excel('data_research.xlsx')\n",
    "data.head()"
   ]
  },
  {
   "cell_type": "code",
   "execution_count": 4,
   "id": "1608e40c",
   "metadata": {},
   "outputs": [
    {
     "data": {
      "text/html": [
       "<div>\n",
       "<style scoped>\n",
       "    .dataframe tbody tr th:only-of-type {\n",
       "        vertical-align: middle;\n",
       "    }\n",
       "\n",
       "    .dataframe tbody tr th {\n",
       "        vertical-align: top;\n",
       "    }\n",
       "\n",
       "    .dataframe thead th {\n",
       "        text-align: right;\n",
       "    }\n",
       "</style>\n",
       "<table border=\"1\" class=\"dataframe\">\n",
       "  <thead>\n",
       "    <tr style=\"text-align: right;\">\n",
       "      <th></th>\n",
       "      <th>case</th>\n",
       "      <th>sex</th>\n",
       "      <th>army</th>\n",
       "      <th>age</th>\n",
       "      <th>grade</th>\n",
       "      <th>couple</th>\n",
       "      <th>live</th>\n",
       "      <th>eat</th>\n",
       "      <th>entertainment</th>\n",
       "      <th>fashion/shopping</th>\n",
       "      <th>...</th>\n",
       "      <th>10_6</th>\n",
       "      <th>10_7</th>\n",
       "      <th>10_8</th>\n",
       "      <th>10_9</th>\n",
       "      <th>10_10</th>\n",
       "      <th>10_11</th>\n",
       "      <th>11</th>\n",
       "      <th>12</th>\n",
       "      <th>13</th>\n",
       "      <th>14</th>\n",
       "    </tr>\n",
       "  </thead>\n",
       "  <tbody>\n",
       "    <tr>\n",
       "      <th>0</th>\n",
       "      <td>1</td>\n",
       "      <td>여자</td>\n",
       "      <td>2</td>\n",
       "      <td>20</td>\n",
       "      <td>3</td>\n",
       "      <td>2</td>\n",
       "      <td>2</td>\n",
       "      <td>10.0</td>\n",
       "      <td>5.0</td>\n",
       "      <td>20.0</td>\n",
       "      <td>...</td>\n",
       "      <td>0</td>\n",
       "      <td>1</td>\n",
       "      <td>0.0</td>\n",
       "      <td>0</td>\n",
       "      <td>1</td>\n",
       "      <td>0</td>\n",
       "      <td>3</td>\n",
       "      <td>3</td>\n",
       "      <td>5</td>\n",
       "      <td>4</td>\n",
       "    </tr>\n",
       "    <tr>\n",
       "      <th>1</th>\n",
       "      <td>2</td>\n",
       "      <td>여자</td>\n",
       "      <td>3</td>\n",
       "      <td>23</td>\n",
       "      <td>3</td>\n",
       "      <td>2</td>\n",
       "      <td>1</td>\n",
       "      <td>15.0</td>\n",
       "      <td>0.0</td>\n",
       "      <td>10.0</td>\n",
       "      <td>...</td>\n",
       "      <td>1</td>\n",
       "      <td>0</td>\n",
       "      <td>0.0</td>\n",
       "      <td>0</td>\n",
       "      <td>0</td>\n",
       "      <td>0</td>\n",
       "      <td>6</td>\n",
       "      <td>5</td>\n",
       "      <td>4</td>\n",
       "      <td>9</td>\n",
       "    </tr>\n",
       "    <tr>\n",
       "      <th>2</th>\n",
       "      <td>3</td>\n",
       "      <td>남자</td>\n",
       "      <td>1</td>\n",
       "      <td>21</td>\n",
       "      <td>2</td>\n",
       "      <td>2</td>\n",
       "      <td>1</td>\n",
       "      <td>20.0</td>\n",
       "      <td>10.0</td>\n",
       "      <td>10.0</td>\n",
       "      <td>...</td>\n",
       "      <td>0</td>\n",
       "      <td>0</td>\n",
       "      <td>0.0</td>\n",
       "      <td>0</td>\n",
       "      <td>0</td>\n",
       "      <td>0</td>\n",
       "      <td>3</td>\n",
       "      <td>5</td>\n",
       "      <td>8</td>\n",
       "      <td>3</td>\n",
       "    </tr>\n",
       "    <tr>\n",
       "      <th>3</th>\n",
       "      <td>4</td>\n",
       "      <td>여자</td>\n",
       "      <td>3</td>\n",
       "      <td>20</td>\n",
       "      <td>2</td>\n",
       "      <td>2</td>\n",
       "      <td>2</td>\n",
       "      <td>10.0</td>\n",
       "      <td>0.0</td>\n",
       "      <td>2.0</td>\n",
       "      <td>...</td>\n",
       "      <td>0</td>\n",
       "      <td>0</td>\n",
       "      <td>0.0</td>\n",
       "      <td>0</td>\n",
       "      <td>0</td>\n",
       "      <td>1</td>\n",
       "      <td>8</td>\n",
       "      <td>7</td>\n",
       "      <td>2</td>\n",
       "      <td>2</td>\n",
       "    </tr>\n",
       "    <tr>\n",
       "      <th>4</th>\n",
       "      <td>5</td>\n",
       "      <td>남자</td>\n",
       "      <td>1</td>\n",
       "      <td>25</td>\n",
       "      <td>4</td>\n",
       "      <td>2</td>\n",
       "      <td>1</td>\n",
       "      <td>20.0</td>\n",
       "      <td>10.0</td>\n",
       "      <td>0.0</td>\n",
       "      <td>...</td>\n",
       "      <td>0</td>\n",
       "      <td>0</td>\n",
       "      <td>0.0</td>\n",
       "      <td>0</td>\n",
       "      <td>0</td>\n",
       "      <td>1</td>\n",
       "      <td>7</td>\n",
       "      <td>6</td>\n",
       "      <td>4</td>\n",
       "      <td>5</td>\n",
       "    </tr>\n",
       "  </tbody>\n",
       "</table>\n",
       "<p>5 rows × 43 columns</p>\n",
       "</div>"
      ],
      "text/plain": [
       "   case sex  army  age  grade  couple  live   eat  entertainment  \\\n",
       "0     1  여자     2   20      3       2     2  10.0            5.0   \n",
       "1     2  여자     3   23      3       2     1  15.0            0.0   \n",
       "2     3  남자     1   21      2       2     1  20.0           10.0   \n",
       "3     4  여자     3   20      2       2     2  10.0            0.0   \n",
       "4     5  남자     1   25      4       2     1  20.0           10.0   \n",
       "\n",
       "   fashion/shopping  ...  10_6  10_7  10_8  10_9  10_10  10_11  11  12  13  14  \n",
       "0              20.0  ...     0     1   0.0     0      1      0   3   3   5   4  \n",
       "1              10.0  ...     1     0   0.0     0      0      0   6   5   4   9  \n",
       "2              10.0  ...     0     0   0.0     0      0      0   3   5   8   3  \n",
       "3               2.0  ...     0     0   0.0     0      0      1   8   7   2   2  \n",
       "4               0.0  ...     0     0   0.0     0      0      1   7   6   4   5  \n",
       "\n",
       "[5 rows x 43 columns]"
      ]
     },
     "execution_count": 4,
     "metadata": {},
     "output_type": "execute_result"
    }
   ],
   "source": [
    "# 남여 한글로 바꾸기\n",
    "\n",
    "data.loc[data['sex'] == 1,'sex'] = '남자'\n",
    "data.loc[data['sex'] == 2,'sex'] = '여자'\n",
    "\n",
    "data.head()"
   ]
  },
  {
   "cell_type": "code",
   "execution_count": 5,
   "id": "97703ee6",
   "metadata": {},
   "outputs": [
    {
     "name": "stdout",
     "output_type": "stream",
     "text": [
      "Ttest_1sampResult(statistic=8.7835045343761, pvalue=3.653985656242255e-17)\n",
      "t : 8.784 \n",
      "p-value : 0.00000000000000004\n"
     ]
    }
   ],
   "source": [
    "# 일표본 t 검정\n",
    "# 평균이 내가 생각한 값이라고 할 수 있는지\n",
    "result = stats.ttest_1samp(data['eat'], 15)\n",
    "print(result)\n",
    "print('t : {:.3f} \\np-value : {:.17f}'.format(result[0], result[1]))"
   ]
  },
  {
   "cell_type": "code",
   "execution_count": 6,
   "id": "2112792f",
   "metadata": {},
   "outputs": [
    {
     "name": "stdout",
     "output_type": "stream",
     "text": [
      "LeveneResult(statistic=0.16574068599870195, pvalue=0.6841255249275369)\n"
     ]
    }
   ],
   "source": [
    "# 독립표본 t 검정\n",
    "# 두 집간의 평균의 차이가 있는지\n",
    "\n",
    "# 등분산 검정\n",
    "\n",
    "result = stats.levene(data.loc[data['sex'] == '남자', 'eat'],\n",
    "                     data.loc[data['sex'] == '여자', 'eat'])\n",
    "print(result)"
   ]
  },
  {
   "cell_type": "code",
   "execution_count": 7,
   "id": "69d6a086",
   "metadata": {},
   "outputs": [
    {
     "name": "stdout",
     "output_type": "stream",
     "text": [
      "Ttest_indResult(statistic=1.5330534041687252, pvalue=0.12598963041683306)\n"
     ]
    }
   ],
   "source": [
    "# 독립표폰 t 검정\n",
    "\n",
    "# 식비 비교\n",
    "result = stats.ttest_ind(data.loc[data['sex'] == '남자', 'eat'],\n",
    "                     data.loc[data['sex'] == '여자', 'eat'],\n",
    "                         equal_var=True) # 등분산성 위배되면 false\n",
    "print(result)"
   ]
  },
  {
   "cell_type": "code",
   "execution_count": 8,
   "id": "5b4ed9d6",
   "metadata": {},
   "outputs": [
    {
     "name": "stdout",
     "output_type": "stream",
     "text": [
      "LeveneResult(statistic=0.34156596215821233, pvalue=0.5592296823462897)\n",
      "Ttest_indResult(statistic=-3.714609382613695, pvalue=0.00023021209481849391)\n"
     ]
    }
   ],
   "source": [
    "# 패션/쇼핑 비교\n",
    "result = stats.levene(data.loc[data['sex'] == '남자', 'fashion/shopping'],\n",
    "                     data.loc[data['sex'] == '여자', 'fashion/shopping'])\n",
    "print(result)\n",
    "\n",
    "\n",
    "\n",
    "result = stats.ttest_ind(data.loc[data['sex'] == '남자', 'fashion/shopping'],\n",
    "                     data.loc[data['sex'] == '여자', 'fashion/shopping'],\n",
    "                         equal_var=False)\n",
    "print(result)"
   ]
  },
  {
   "cell_type": "code",
   "execution_count": 9,
   "id": "b04d7ec5",
   "metadata": {},
   "outputs": [],
   "source": [
    "# 아노바 검정 ( 분산 분석 )"
   ]
  },
  {
   "cell_type": "code",
   "execution_count": 10,
   "id": "7bc98bd8",
   "metadata": {},
   "outputs": [
    {
     "data": {
      "text/plain": [
       "age\n",
       "19    141\n",
       "20    115\n",
       "21     54\n",
       "23     41\n",
       "22     31\n",
       "24     24\n",
       "18     16\n",
       "25     11\n",
       "26      2\n",
       "28      2\n",
       "dtype: int64"
      ]
     },
     "execution_count": 10,
     "metadata": {},
     "output_type": "execute_result"
    }
   ],
   "source": [
    "data.value_counts('age')"
   ]
  },
  {
   "cell_type": "code",
   "execution_count": 11,
   "id": "01703e4a",
   "metadata": {},
   "outputs": [],
   "source": [
    "# 만 19,20,21살을 대상으로 비교\n",
    "group19 = data[data['age'] == 19]\n",
    "group20 = data[data['age'] == 20]\n",
    "group21 = data[data['age'] == 21]"
   ]
  },
  {
   "cell_type": "code",
   "execution_count": 12,
   "id": "f926df89",
   "metadata": {},
   "outputs": [
    {
     "data": {
      "image/png": "[encoded data removed]",
      "text/plain": [
       "<Figure size 432x288 with 1 Axes>"
      ]
     },
     "metadata": {
      "needs_background": "light"
     },
     "output_type": "display_data"
    }
   ],
   "source": [
    "plt.boxplot([group19['eat'], group20['eat'], group21['eat']])\n",
    "plt.show()"
   ]
  },
  {
   "cell_type": "code",
   "execution_count": 13,
   "id": "4ef71dfc",
   "metadata": {},
   "outputs": [],
   "source": [
    "# h0 : 나이별 식비의 차이는 없을 것이다.\n",
    "# h1 : 나이별 식비의 차이가 있을 것이다."
   ]
  },
  {
   "cell_type": "code",
   "execution_count": 14,
   "id": "3115f40f",
   "metadata": {},
   "outputs": [
    {
     "name": "stdout",
     "output_type": "stream",
     "text": [
      "F_onewayResult(statistic=1.2073494089591137, pvalue=0.30040432057699173)\n"
     ]
    }
   ],
   "source": [
    "# 일원 분산 분석\n",
    "result = stats.f_oneway(group19['eat'], group20['eat'], group21['eat'])\n",
    "print(result)"
   ]
  },
  {
   "cell_type": "code",
   "execution_count": 15,
   "id": "8f58cdae",
   "metadata": {},
   "outputs": [
    {
     "name": "stdout",
     "output_type": "stream",
     "text": [
      "F_onewayResult(statistic=4.414800080310521, pvalue=0.012874523203138928)\n"
     ]
    }
   ],
   "source": [
    "# 토탈 소비금액으로 비교\n",
    "\n",
    "# 일원 분산 분석\n",
    "result = stats.f_oneway(group19['total'], group20['total'], group21['total'])\n",
    "print(result)"
   ]
  },
  {
   "cell_type": "code",
   "execution_count": 16,
   "id": "ac2c85ff",
   "metadata": {},
   "outputs": [
    {
     "data": {
      "text/html": [
       "<div>\n",
       "<style scoped>\n",
       "    .dataframe tbody tr th:only-of-type {\n",
       "        vertical-align: middle;\n",
       "    }\n",
       "\n",
       "    .dataframe tbody tr th {\n",
       "        vertical-align: top;\n",
       "    }\n",
       "\n",
       "    .dataframe thead th {\n",
       "        text-align: right;\n",
       "    }\n",
       "</style>\n",
       "<table border=\"1\" class=\"dataframe\">\n",
       "  <thead>\n",
       "    <tr style=\"text-align: right;\">\n",
       "      <th></th>\n",
       "      <th>age</th>\n",
       "      <th>total</th>\n",
       "    </tr>\n",
       "  </thead>\n",
       "  <tbody>\n",
       "    <tr>\n",
       "      <th>24</th>\n",
       "      <td>19</td>\n",
       "      <td>30.0</td>\n",
       "    </tr>\n",
       "    <tr>\n",
       "      <th>38</th>\n",
       "      <td>19</td>\n",
       "      <td>82.0</td>\n",
       "    </tr>\n",
       "    <tr>\n",
       "      <th>39</th>\n",
       "      <td>19</td>\n",
       "      <td>55.0</td>\n",
       "    </tr>\n",
       "    <tr>\n",
       "      <th>40</th>\n",
       "      <td>19</td>\n",
       "      <td>70.0</td>\n",
       "    </tr>\n",
       "    <tr>\n",
       "      <th>49</th>\n",
       "      <td>19</td>\n",
       "      <td>50.0</td>\n",
       "    </tr>\n",
       "  </tbody>\n",
       "</table>\n",
       "</div>"
      ],
      "text/plain": [
       "    age  total\n",
       "24   19   30.0\n",
       "38   19   82.0\n",
       "39   19   55.0\n",
       "40   19   70.0\n",
       "49   19   50.0"
      ]
     },
     "execution_count": 16,
     "metadata": {},
     "output_type": "execute_result"
    }
   ],
   "source": [
    "pair = pd.concat([group19[['age','total']],\n",
    "                  group20[['age','total']],\n",
    "                  group21[['age','total']]])\n",
    "pair.head()"
   ]
  },
  {
   "cell_type": "code",
   "execution_count": 17,
   "id": "e25658c4",
   "metadata": {},
   "outputs": [
    {
     "name": "stdout",
     "output_type": "stream",
     "text": [
      "Multiple Comparison of Means - Tukey HSD, FWER=0.05 \n",
      "====================================================\n",
      "group1 group2 meandiff p-adj   lower   upper  reject\n",
      "----------------------------------------------------\n",
      "    19     20   0.1624    0.9 -5.8431  6.1678  False\n",
      "    19     21   9.1007 0.0149  1.4519 16.7495   True\n",
      "    20     21   8.9383 0.0217  1.0537 16.8229   True\n",
      "----------------------------------------------------\n"
     ]
    }
   ],
   "source": [
    "from statsmodels.stats.multicomp import pairwise_tukeyhsd\n",
    "print(pairwise_tukeyhsd(pair['total'], pair['age']))"
   ]
  },
  {
   "cell_type": "code",
   "execution_count": 18,
   "id": "cfa60cf9",
   "metadata": {},
   "outputs": [
    {
     "name": "stdout",
     "output_type": "stream",
     "text": [
      "Figure(720x432)\n"
     ]
    },
    {
     "name": "stderr",
     "output_type": "stream",
     "text": [
      "c:\\users\\kyun\\appdata\\local\\programs\\python\\python39\\lib\\site-packages\\statsmodels\\sandbox\\stats\\multicomp.py:775: UserWarning: FixedFormatter should only be used together with FixedLocator\n",
      "  ax1.set_yticklabels(np.insert(self.groupsunique.astype(str), 0, ''))\n"
     ]
    },
    {
     "data": {
      "image/png": "[encoded data removed]",
      "text/plain": [
       "<Figure size 720x432 with 1 Axes>"
      ]
     },
     "metadata": {
      "needs_background": "light"
     },
     "output_type": "display_data"
    }
   ],
   "source": [
    "print(pairwise_tukeyhsd(pair['total'], pair['age']).plot_simultaneous())"
   ]
  },
  {
   "cell_type": "markdown",
   "id": "2e84c5fd",
   "metadata": {},
   "source": [
    "### 19살 20살 21살의 식비는 같으나 총 소비금액은 다르다고 할 수 있다.\n",
    "\n",
    "### 사후검정 결과 19 20살은 차이가 없다고 할 수 있다."
   ]
  },
  {
   "cell_type": "code",
   "execution_count": null,
   "id": "d0d45eba",
   "metadata": {},
   "outputs": [],
   "source": []
  },
  {
   "cell_type": "markdown",
   "id": "1d5976e9",
   "metadata": {},
   "source": [
    "## 카이제곱 테스트\n"
   ]
  },
  {
   "cell_type": "code",
   "execution_count": 19,
   "id": "2802a8f7",
   "metadata": {},
   "outputs": [
    {
     "data": {
      "text/plain": [
       "Index([             'case',               'sex',              'army',\n",
       "                     'age',             'grade',            'couple',\n",
       "                    'live',               'eat',     'entertainment',\n",
       "        'fashion/shopping',           'culture',            'beauty',\n",
       "                     'edu',           'healthy',              'life',\n",
       "                  'saving',             'total',              'eat2',\n",
       "          'entertainment2', 'fashion/shopping2',          'culture2',\n",
       "                 'beauty2',              'edu2',          'healthy2',\n",
       "                   'life2',           'saving2',            'total2',\n",
       "                         9,              '10_1',              '10_2',\n",
       "                    '10_3',              '10_4',              '10_5',\n",
       "                    '10_6',              '10_7',              '10_8',\n",
       "                    '10_9',             '10_10',             '10_11',\n",
       "                        11,                  12,                  13,\n",
       "                        14],\n",
       "      dtype='object')"
      ]
     },
     "execution_count": 19,
     "metadata": {},
     "output_type": "execute_result"
    }
   ],
   "source": [
    "data.columns"
   ]
  },
  {
   "cell_type": "markdown",
   "id": "45502dfb",
   "metadata": {},
   "source": [
    "### 남여에 따라 커플, 솔로가 차이가 있는지 카이제곱 검정으로 알아보자 "
   ]
  },
  {
   "cell_type": "code",
   "execution_count": 20,
   "id": "e642a629",
   "metadata": {},
   "outputs": [
    {
     "data": {
      "text/html": [
       "<div>\n",
       "<style scoped>\n",
       "    .dataframe tbody tr th:only-of-type {\n",
       "        vertical-align: middle;\n",
       "    }\n",
       "\n",
       "    .dataframe tbody tr th {\n",
       "        vertical-align: top;\n",
       "    }\n",
       "\n",
       "    .dataframe thead th {\n",
       "        text-align: right;\n",
       "    }\n",
       "</style>\n",
       "<table border=\"1\" class=\"dataframe\">\n",
       "  <thead>\n",
       "    <tr style=\"text-align: right;\">\n",
       "      <th>couple</th>\n",
       "      <th>솔로</th>\n",
       "      <th>커플</th>\n",
       "    </tr>\n",
       "    <tr>\n",
       "      <th>sex</th>\n",
       "      <th></th>\n",
       "      <th></th>\n",
       "    </tr>\n",
       "  </thead>\n",
       "  <tbody>\n",
       "    <tr>\n",
       "      <th>남자</th>\n",
       "      <td>168</td>\n",
       "      <td>40</td>\n",
       "    </tr>\n",
       "    <tr>\n",
       "      <th>여자</th>\n",
       "      <td>156</td>\n",
       "      <td>73</td>\n",
       "    </tr>\n",
       "  </tbody>\n",
       "</table>\n",
       "</div>"
      ],
      "text/plain": [
       "couple   솔로  커플\n",
       "sex            \n",
       "남자      168  40\n",
       "여자      156  73"
      ]
     },
     "execution_count": 20,
     "metadata": {},
     "output_type": "execute_result"
    }
   ],
   "source": [
    "# 커플 한글로 바꾸기\n",
    "\n",
    "data.loc[data['couple'] == 1,'couple'] = '커플'\n",
    "data.loc[data['couple'] == 2,'couple'] = '솔로'\n",
    "\n",
    "\n",
    "\n",
    "# 카이제곱 분석을 위한 교차표 만들기\n",
    "\n",
    "table = pd.crosstab(data['sex'],data['couple'])\n",
    "table"
   ]
  },
  {
   "cell_type": "code",
   "execution_count": 21,
   "id": "dc892fda",
   "metadata": {},
   "outputs": [
    {
     "name": "stdout",
     "output_type": "stream",
     "text": [
      "(8.445753945909178, 0.003658967148629325, 1, array([[154.21510297,  53.78489703],\n",
      "       [169.78489703,  59.21510297]]))\n"
     ]
    }
   ],
   "source": [
    "result = stats.chi2_contingency(table)\n",
    "print(result)"
   ]
  },
  {
   "cell_type": "code",
   "execution_count": 22,
   "id": "6f9805de",
   "metadata": {},
   "outputs": [
    {
     "name": "stdout",
     "output_type": "stream",
     "text": [
      "카이 스퀘어 값 : 8.445753945909178\n",
      "p-value (0.05): 0.003658967148629325\n",
      "자유도 수: 1\n",
      "기대값: \n",
      "            0          1\n",
      "0  154.215103  53.784897\n",
      "1  169.784897  59.215103\n",
      "측정값: \n",
      "couple   솔로  커플\n",
      "sex            \n",
      "남자      168  40\n",
      "여자      156  73\n"
     ]
    }
   ],
   "source": [
    "# 문자 앞에 f를 붙이면 중괄호안에 변수 넣기 가능 f-string\n",
    "print(f'카이 스퀘어 값 : {result[0]}',\n",
    "      f\"p-value (0.05): {result[1]}\",\n",
    "      f\"자유도 수: {result[2]}\",\n",
    "      f\"기대값: \\n{pd.DataFrame(result[3])}\",\n",
    "      f\"측정값: \\n{table}\", sep = \"\\n\")"
   ]
  },
  {
   "cell_type": "code",
   "execution_count": 23,
   "id": "098e487f",
   "metadata": {},
   "outputs": [],
   "source": [
    "chi_data = table.melt(ignore_index=False)"
   ]
  },
  {
   "cell_type": "code",
   "execution_count": 24,
   "id": "504e6551",
   "metadata": {},
   "outputs": [
    {
     "data": {
      "text/html": [
       "<div>\n",
       "<style scoped>\n",
       "    .dataframe tbody tr th:only-of-type {\n",
       "        vertical-align: middle;\n",
       "    }\n",
       "\n",
       "    .dataframe tbody tr th {\n",
       "        vertical-align: top;\n",
       "    }\n",
       "\n",
       "    .dataframe thead th {\n",
       "        text-align: right;\n",
       "    }\n",
       "</style>\n",
       "<table border=\"1\" class=\"dataframe\">\n",
       "  <thead>\n",
       "    <tr style=\"text-align: right;\">\n",
       "      <th></th>\n",
       "      <th>couple</th>\n",
       "      <th>value</th>\n",
       "    </tr>\n",
       "    <tr>\n",
       "      <th>sex</th>\n",
       "      <th></th>\n",
       "      <th></th>\n",
       "    </tr>\n",
       "  </thead>\n",
       "  <tbody>\n",
       "    <tr>\n",
       "      <th>남자</th>\n",
       "      <td>솔로</td>\n",
       "      <td>168</td>\n",
       "    </tr>\n",
       "    <tr>\n",
       "      <th>여자</th>\n",
       "      <td>솔로</td>\n",
       "      <td>156</td>\n",
       "    </tr>\n",
       "    <tr>\n",
       "      <th>남자</th>\n",
       "      <td>커플</td>\n",
       "      <td>40</td>\n",
       "    </tr>\n",
       "    <tr>\n",
       "      <th>여자</th>\n",
       "      <td>커플</td>\n",
       "      <td>73</td>\n",
       "    </tr>\n",
       "  </tbody>\n",
       "</table>\n",
       "</div>"
      ],
      "text/plain": [
       "    couple  value\n",
       "sex              \n",
       "남자      솔로    168\n",
       "여자      솔로    156\n",
       "남자      커플     40\n",
       "여자      커플     73"
      ]
     },
     "execution_count": 24,
     "metadata": {},
     "output_type": "execute_result"
    }
   ],
   "source": [
    "chi_data"
   ]
  },
  {
   "cell_type": "code",
   "execution_count": 25,
   "id": "809cbad4",
   "metadata": {},
   "outputs": [
    {
     "data": {
      "image/png": "[encoded data removed]",
      "text/plain": [
       "<Figure size 432x288 with 1 Axes>"
      ]
     },
     "metadata": {
      "needs_background": "light"
     },
     "output_type": "display_data"
    }
   ],
   "source": [
    "import matplotlib\n",
    "\n",
    "font_name = matplotlib.font_manager.FontProperties(fname='C:/Windows/Fonts/H2HDRM.TTF').get_name()\n",
    "matplotlib.rc('font', family=font_name)\n",
    "matplotlib.rcParams['axes.unicode_minus'] = False  # matplotlib 에 한국어 폰트 적용\n",
    "\n",
    "\n",
    "sns.barplot(x = chi_data.index , y='value', hue='couple', data=chi_data,\n",
    "           dodge=False)\n",
    "plt.show()"
   ]
  },
  {
   "cell_type": "code",
   "execution_count": 26,
   "id": "42b37db3",
   "metadata": {},
   "outputs": [],
   "source": [
    "## 회귀분석"
   ]
  },
  {
   "cell_type": "code",
   "execution_count": 27,
   "id": "6aa3280e",
   "metadata": {},
   "outputs": [],
   "source": [
    "import statsmodels.api as sm"
   ]
  },
  {
   "cell_type": "code",
   "execution_count": 101,
   "id": "a167d513",
   "metadata": {},
   "outputs": [
    {
     "data": {
      "text/html": [
       "<div>\n",
       "<style scoped>\n",
       "    .dataframe tbody tr th:only-of-type {\n",
       "        vertical-align: middle;\n",
       "    }\n",
       "\n",
       "    .dataframe tbody tr th {\n",
       "        vertical-align: top;\n",
       "    }\n",
       "\n",
       "    .dataframe thead th {\n",
       "        text-align: right;\n",
       "    }\n",
       "</style>\n",
       "<table border=\"1\" class=\"dataframe\">\n",
       "  <thead>\n",
       "    <tr style=\"text-align: right;\">\n",
       "      <th></th>\n",
       "      <th>날짜</th>\n",
       "      <th>시도지역</th>\n",
       "      <th>일수</th>\n",
       "      <th>발생건수(건)</th>\n",
       "      <th>일평균 발생건수(건)</th>\n",
       "      <th>평균기온(°C)</th>\n",
       "      <th>평균최고기온(°C)</th>\n",
       "      <th>평균최저기온(°C)</th>\n",
       "      <th>평균일교차(°C)</th>\n",
       "      <th>평균상대습도(%)</th>\n",
       "      <th>월합강수량(00~24h만)(mm)</th>\n",
       "      <th>SO2(ppm)</th>\n",
       "      <th>NO2(ppm)</th>\n",
       "      <th>CO(ppm)</th>\n",
       "      <th>PM-10(ug/m3)</th>\n",
       "      <th>월별 인구수</th>\n",
       "      <th>0~14세</th>\n",
       "      <th>65세 이상</th>\n",
       "      <th>취약계층</th>\n",
       "      <th>취약계층비율</th>\n",
       "    </tr>\n",
       "  </thead>\n",
       "  <tbody>\n",
       "    <tr>\n",
       "      <th>0</th>\n",
       "      <td>201401</td>\n",
       "      <td>서울</td>\n",
       "      <td>31</td>\n",
       "      <td>186096</td>\n",
       "      <td>6003</td>\n",
       "      <td>-0.7</td>\n",
       "      <td>3.5</td>\n",
       "      <td>-4.9</td>\n",
       "      <td>8.4</td>\n",
       "      <td>50</td>\n",
       "      <td>13.0</td>\n",
       "      <td>0.007</td>\n",
       "      <td>0.042</td>\n",
       "      <td>0.7</td>\n",
       "      <td>57</td>\n",
       "      <td>10143164</td>\n",
       "      <td>1286747</td>\n",
       "      <td>1167971</td>\n",
       "      <td>2454718</td>\n",
       "      <td>0.242007</td>\n",
       "    </tr>\n",
       "    <tr>\n",
       "      <th>1</th>\n",
       "      <td>201402</td>\n",
       "      <td>서울</td>\n",
       "      <td>28</td>\n",
       "      <td>203884</td>\n",
       "      <td>7282</td>\n",
       "      <td>1.9</td>\n",
       "      <td>6.6</td>\n",
       "      <td>-1.8</td>\n",
       "      <td>8.4</td>\n",
       "      <td>52</td>\n",
       "      <td>16.2</td>\n",
       "      <td>0.006</td>\n",
       "      <td>0.039</td>\n",
       "      <td>0.6</td>\n",
       "      <td>57</td>\n",
       "      <td>10144173</td>\n",
       "      <td>1282865</td>\n",
       "      <td>1173044</td>\n",
       "      <td>2455909</td>\n",
       "      <td>0.242100</td>\n",
       "    </tr>\n",
       "    <tr>\n",
       "      <th>2</th>\n",
       "      <td>201403</td>\n",
       "      <td>서울</td>\n",
       "      <td>31</td>\n",
       "      <td>187153</td>\n",
       "      <td>6037</td>\n",
       "      <td>7.9</td>\n",
       "      <td>13.1</td>\n",
       "      <td>3.5</td>\n",
       "      <td>9.6</td>\n",
       "      <td>60</td>\n",
       "      <td>7.2</td>\n",
       "      <td>0.007</td>\n",
       "      <td>0.037</td>\n",
       "      <td>0.5</td>\n",
       "      <td>60</td>\n",
       "      <td>10141727</td>\n",
       "      <td>1278461</td>\n",
       "      <td>1178004</td>\n",
       "      <td>2456465</td>\n",
       "      <td>0.242214</td>\n",
       "    </tr>\n",
       "    <tr>\n",
       "      <th>3</th>\n",
       "      <td>201404</td>\n",
       "      <td>서울</td>\n",
       "      <td>30</td>\n",
       "      <td>210748</td>\n",
       "      <td>7025</td>\n",
       "      <td>14.0</td>\n",
       "      <td>19.6</td>\n",
       "      <td>9.4</td>\n",
       "      <td>10.2</td>\n",
       "      <td>60</td>\n",
       "      <td>31.0</td>\n",
       "      <td>0.006</td>\n",
       "      <td>0.040</td>\n",
       "      <td>0.5</td>\n",
       "      <td>58</td>\n",
       "      <td>10137313</td>\n",
       "      <td>1274956</td>\n",
       "      <td>1181329</td>\n",
       "      <td>2456285</td>\n",
       "      <td>0.242301</td>\n",
       "    </tr>\n",
       "    <tr>\n",
       "      <th>4</th>\n",
       "      <td>201405</td>\n",
       "      <td>서울</td>\n",
       "      <td>31</td>\n",
       "      <td>180015</td>\n",
       "      <td>5807</td>\n",
       "      <td>18.9</td>\n",
       "      <td>25.3</td>\n",
       "      <td>13.8</td>\n",
       "      <td>11.5</td>\n",
       "      <td>59</td>\n",
       "      <td>63.0</td>\n",
       "      <td>0.006</td>\n",
       "      <td>0.032</td>\n",
       "      <td>0.5</td>\n",
       "      <td>63</td>\n",
       "      <td>10133734</td>\n",
       "      <td>1271744</td>\n",
       "      <td>1185221</td>\n",
       "      <td>2456965</td>\n",
       "      <td>0.242454</td>\n",
       "    </tr>\n",
       "    <tr>\n",
       "      <th>...</th>\n",
       "      <td>...</td>\n",
       "      <td>...</td>\n",
       "      <td>...</td>\n",
       "      <td>...</td>\n",
       "      <td>...</td>\n",
       "      <td>...</td>\n",
       "      <td>...</td>\n",
       "      <td>...</td>\n",
       "      <td>...</td>\n",
       "      <td>...</td>\n",
       "      <td>...</td>\n",
       "      <td>...</td>\n",
       "      <td>...</td>\n",
       "      <td>...</td>\n",
       "      <td>...</td>\n",
       "      <td>...</td>\n",
       "      <td>...</td>\n",
       "      <td>...</td>\n",
       "      <td>...</td>\n",
       "      <td>...</td>\n",
       "    </tr>\n",
       "    <tr>\n",
       "      <th>319</th>\n",
       "      <td>201802</td>\n",
       "      <td>대전</td>\n",
       "      <td>28</td>\n",
       "      <td>18480</td>\n",
       "      <td>660</td>\n",
       "      <td>-0.4</td>\n",
       "      <td>5.6</td>\n",
       "      <td>-5.7</td>\n",
       "      <td>11.3</td>\n",
       "      <td>53</td>\n",
       "      <td>40.5</td>\n",
       "      <td>0.004</td>\n",
       "      <td>0.028</td>\n",
       "      <td>0.5</td>\n",
       "      <td>56</td>\n",
       "      <td>1499187</td>\n",
       "      <td>207659</td>\n",
       "      <td>182109</td>\n",
       "      <td>389768</td>\n",
       "      <td>0.259986</td>\n",
       "    </tr>\n",
       "    <tr>\n",
       "      <th>320</th>\n",
       "      <td>201803</td>\n",
       "      <td>대전</td>\n",
       "      <td>31</td>\n",
       "      <td>22269</td>\n",
       "      <td>718</td>\n",
       "      <td>8.7</td>\n",
       "      <td>14.9</td>\n",
       "      <td>3.1</td>\n",
       "      <td>11.8</td>\n",
       "      <td>70</td>\n",
       "      <td>108.4</td>\n",
       "      <td>0.002</td>\n",
       "      <td>0.022</td>\n",
       "      <td>0.4</td>\n",
       "      <td>52</td>\n",
       "      <td>1497572</td>\n",
       "      <td>206714</td>\n",
       "      <td>182965</td>\n",
       "      <td>389679</td>\n",
       "      <td>0.260207</td>\n",
       "    </tr>\n",
       "    <tr>\n",
       "      <th>321</th>\n",
       "      <td>201804</td>\n",
       "      <td>대전</td>\n",
       "      <td>30</td>\n",
       "      <td>27716</td>\n",
       "      <td>924</td>\n",
       "      <td>13.9</td>\n",
       "      <td>20.3</td>\n",
       "      <td>7.8</td>\n",
       "      <td>12.5</td>\n",
       "      <td>64</td>\n",
       "      <td>155.3</td>\n",
       "      <td>0.002</td>\n",
       "      <td>0.017</td>\n",
       "      <td>0.4</td>\n",
       "      <td>60</td>\n",
       "      <td>1496123</td>\n",
       "      <td>205855</td>\n",
       "      <td>183605</td>\n",
       "      <td>389460</td>\n",
       "      <td>0.260313</td>\n",
       "    </tr>\n",
       "    <tr>\n",
       "      <th>322</th>\n",
       "      <td>201805</td>\n",
       "      <td>대전</td>\n",
       "      <td>31</td>\n",
       "      <td>25320</td>\n",
       "      <td>817</td>\n",
       "      <td>19.2</td>\n",
       "      <td>24.7</td>\n",
       "      <td>14.0</td>\n",
       "      <td>10.7</td>\n",
       "      <td>70</td>\n",
       "      <td>95.9</td>\n",
       "      <td>0.002</td>\n",
       "      <td>0.014</td>\n",
       "      <td>0.3</td>\n",
       "      <td>47</td>\n",
       "      <td>1495234</td>\n",
       "      <td>205191</td>\n",
       "      <td>184439</td>\n",
       "      <td>389630</td>\n",
       "      <td>0.260581</td>\n",
       "    </tr>\n",
       "    <tr>\n",
       "      <th>323</th>\n",
       "      <td>201806</td>\n",
       "      <td>대전</td>\n",
       "      <td>30</td>\n",
       "      <td>19042</td>\n",
       "      <td>635</td>\n",
       "      <td>23.6</td>\n",
       "      <td>29.1</td>\n",
       "      <td>18.8</td>\n",
       "      <td>10.3</td>\n",
       "      <td>68</td>\n",
       "      <td>115.8</td>\n",
       "      <td>0.002</td>\n",
       "      <td>0.014</td>\n",
       "      <td>0.4</td>\n",
       "      <td>38</td>\n",
       "      <td>1494878</td>\n",
       "      <td>204670</td>\n",
       "      <td>184961</td>\n",
       "      <td>389631</td>\n",
       "      <td>0.260644</td>\n",
       "    </tr>\n",
       "  </tbody>\n",
       "</table>\n",
       "<p>324 rows × 20 columns</p>\n",
       "</div>"
      ],
      "text/plain": [
       "         날짜 시도지역  일수  발생건수(건)  일평균 발생건수(건)  평균기온(°C)  평균최고기온(°C)  평균최저기온(°C)  \\\n",
       "0    201401   서울  31   186096         6003      -0.7         3.5        -4.9   \n",
       "1    201402   서울  28   203884         7282       1.9         6.6        -1.8   \n",
       "2    201403   서울  31   187153         6037       7.9        13.1         3.5   \n",
       "3    201404   서울  30   210748         7025      14.0        19.6         9.4   \n",
       "4    201405   서울  31   180015         5807      18.9        25.3        13.8   \n",
       "..      ...  ...  ..      ...          ...       ...         ...         ...   \n",
       "319  201802   대전  28    18480          660      -0.4         5.6        -5.7   \n",
       "320  201803   대전  31    22269          718       8.7        14.9         3.1   \n",
       "321  201804   대전  30    27716          924      13.9        20.3         7.8   \n",
       "322  201805   대전  31    25320          817      19.2        24.7        14.0   \n",
       "323  201806   대전  30    19042          635      23.6        29.1        18.8   \n",
       "\n",
       "     평균일교차(°C)  평균상대습도(%)  월합강수량(00~24h만)(mm)  SO2(ppm)  NO2(ppm)  CO(ppm)  \\\n",
       "0          8.4         50                13.0     0.007     0.042      0.7   \n",
       "1          8.4         52                16.2     0.006     0.039      0.6   \n",
       "2          9.6         60                 7.2     0.007     0.037      0.5   \n",
       "3         10.2         60                31.0     0.006     0.040      0.5   \n",
       "4         11.5         59                63.0     0.006     0.032      0.5   \n",
       "..         ...        ...                 ...       ...       ...      ...   \n",
       "319       11.3         53                40.5     0.004     0.028      0.5   \n",
       "320       11.8         70               108.4     0.002     0.022      0.4   \n",
       "321       12.5         64               155.3     0.002     0.017      0.4   \n",
       "322       10.7         70                95.9     0.002     0.014      0.3   \n",
       "323       10.3         68               115.8     0.002     0.014      0.4   \n",
       "\n",
       "     PM-10(ug/m3)    월별 인구수    0~14세   65세 이상     취약계층    취약계층비율  \n",
       "0              57  10143164  1286747  1167971  2454718  0.242007  \n",
       "1              57  10144173  1282865  1173044  2455909  0.242100  \n",
       "2              60  10141727  1278461  1178004  2456465  0.242214  \n",
       "3              58  10137313  1274956  1181329  2456285  0.242301  \n",
       "4              63  10133734  1271744  1185221  2456965  0.242454  \n",
       "..            ...       ...      ...      ...      ...       ...  \n",
       "319            56   1499187   207659   182109   389768  0.259986  \n",
       "320            52   1497572   206714   182965   389679  0.260207  \n",
       "321            60   1496123   205855   183605   389460  0.260313  \n",
       "322            47   1495234   205191   184439   389630  0.260581  \n",
       "323            38   1494878   204670   184961   389631  0.260644  \n",
       "\n",
       "[324 rows x 20 columns]"
      ]
     },
     "execution_count": 101,
     "metadata": {},
     "output_type": "execute_result"
    }
   ],
   "source": [
    "data_w = pd.read_csv('data_weather.csv')\n",
    "data_w"
   ]
  },
  {
   "cell_type": "code",
   "execution_count": 102,
   "id": "6cbb2efd",
   "metadata": {},
   "outputs": [
    {
     "data": {
      "text/plain": [
       "Index(['날짜', '시도지역', '일수', '발생건수(건)', '일평균 발생건수(건)', '평균기온(°C)', '평균최고기온(°C)',\n",
       "       '평균최저기온(°C)', '평균일교차(°C)', '평균상대습도(%)', '월합강수량(00~24h만)(mm)',\n",
       "       'SO2(ppm)', 'NO2(ppm)', 'CO(ppm)', 'PM-10(ug/m3)', '월별 인구수', '0~14세',\n",
       "       '65세 이상', '취약계층', '취약계층비율'],\n",
       "      dtype='object')"
      ]
     },
     "execution_count": 102,
     "metadata": {},
     "output_type": "execute_result"
    }
   ],
   "source": [
    "data_w.columns"
   ]
  },
  {
   "cell_type": "code",
   "execution_count": 103,
   "id": "70885790",
   "metadata": {},
   "outputs": [],
   "source": [
    "data_w.columns = ['날짜', '시도지역', '일수', '발생건수', '일평균 발생건수', '평균기온', '평균최고기온',\n",
    "       '평균최저기온', '평균일교차', '평균상대습도', '월합강수량',\n",
    "       'SO2', 'NO2', 'CO', 'PM10', '월별 인구수', '0~14세',\n",
    "       '65세 이상', '취약계층', '취약계층비율']"
   ]
  },
  {
   "cell_type": "code",
   "execution_count": 104,
   "id": "f9965fcd",
   "metadata": {},
   "outputs": [
    {
     "data": {
      "text/plain": [
       "<seaborn.matrix.ClusterGrid at 0x2b55c8905e0>"
      ]
     },
     "execution_count": 104,
     "metadata": {},
     "output_type": "execute_result"
    },
    {
     "data": {
      "image/png": "[encoded data removed]",
      "text/plain": [
       "<Figure size 720x720 with 4 Axes>"
      ]
     },
     "metadata": {
      "needs_background": "light"
     },
     "output_type": "display_data"
    }
   ],
   "source": [
    "data_corr = data_w[['발생건수','평균기온', '평균최고기온',\n",
    "       '평균최저기온', '평균일교차', '평균상대습도', '월합강수량',\n",
    "       'SO2', 'NO2', 'CO', 'PM10','취약계층비율'\n",
    "                   ]].corr()\n",
    "\n",
    "sns.clustermap(data_corr,\n",
    "               annot=True,  # 실제 값 화면에 나타내기\n",
    "               cmap='RdYlBu_r',  # Red, Yellow, Blue 로 색상 표시\n",
    "               vmin=-1, vmax=1  # 컬러차트 -1 ~ 1 범위로 표시\n",
    "               )"
   ]
  },
  {
   "cell_type": "markdown",
   "id": "995ba737",
   "metadata": {},
   "source": [
    "#### 상관계수를 보니 알수 있는것\n",
    "#### 1. 기온관련된 3개의 변수는 상관관계가 높아서 제거를 해야겠다.\n",
    "#### 2. 미세먼지 관련된 변수도 관련성이 높으나 잘 모르니 제거하지 말아야겠다."
   ]
  },
  {
   "cell_type": "code",
   "execution_count": 105,
   "id": "b1bcd5c4",
   "metadata": {},
   "outputs": [
    {
     "data": {
      "text/html": [
       "<table class=\"simpletable\">\n",
       "<caption>OLS Regression Results</caption>\n",
       "<tr>\n",
       "  <th>Dep. Variable:</th>          <td>발생건수</td>       <th>  R-squared:         </th> <td>   0.554</td>\n",
       "</tr>\n",
       "<tr>\n",
       "  <th>Model:</th>                   <td>OLS</td>       <th>  Adj. R-squared:    </th> <td>   0.553</td>\n",
       "</tr>\n",
       "<tr>\n",
       "  <th>Method:</th>             <td>Least Squares</td>  <th>  F-statistic:       </th> <td>   399.9</td>\n",
       "</tr>\n",
       "<tr>\n",
       "  <th>Date:</th>             <td>Sun, 30 May 2021</td> <th>  Prob (F-statistic):</th> <td>2.13e-58</td>\n",
       "</tr>\n",
       "<tr>\n",
       "  <th>Time:</th>                 <td>14:54:21</td>     <th>  Log-Likelihood:    </th> <td> -3800.1</td>\n",
       "</tr>\n",
       "<tr>\n",
       "  <th>No. Observations:</th>      <td>   324</td>      <th>  AIC:               </th> <td>   7604.</td>\n",
       "</tr>\n",
       "<tr>\n",
       "  <th>Df Residuals:</th>          <td>   322</td>      <th>  BIC:               </th> <td>   7612.</td>\n",
       "</tr>\n",
       "<tr>\n",
       "  <th>Df Model:</th>              <td>     1</td>      <th>                     </th>     <td> </td>   \n",
       "</tr>\n",
       "<tr>\n",
       "  <th>Covariance Type:</th>      <td>nonrobust</td>    <th>                     </th>     <td> </td>   \n",
       "</tr>\n",
       "</table>\n",
       "<table class=\"simpletable\">\n",
       "<tr>\n",
       "      <td></td>         <th>coef</th>     <th>std err</th>      <th>t</th>      <th>P>|t|</th>  <th>[0.025</th>    <th>0.975]</th>  \n",
       "</tr>\n",
       "<tr>\n",
       "  <th>Intercept</th> <td>-4.954e+04</td> <td> 5831.324</td> <td>   -8.496</td> <td> 0.000</td> <td> -6.1e+04</td> <td>-3.81e+04</td>\n",
       "</tr>\n",
       "<tr>\n",
       "  <th>NO2</th>       <td> 4.911e+06</td> <td> 2.46e+05</td> <td>   19.997</td> <td> 0.000</td> <td> 4.43e+06</td> <td> 5.39e+06</td>\n",
       "</tr>\n",
       "</table>\n",
       "<table class=\"simpletable\">\n",
       "<tr>\n",
       "  <th>Omnibus:</th>       <td> 5.578</td> <th>  Durbin-Watson:     </th> <td>   0.369</td>\n",
       "</tr>\n",
       "<tr>\n",
       "  <th>Prob(Omnibus):</th> <td> 0.061</td> <th>  Jarque-Bera (JB):  </th> <td>   5.591</td>\n",
       "</tr>\n",
       "<tr>\n",
       "  <th>Skew:</th>          <td> 0.322</td> <th>  Prob(JB):          </th> <td>  0.0611</td>\n",
       "</tr>\n",
       "<tr>\n",
       "  <th>Kurtosis:</th>      <td> 2.975</td> <th>  Cond. No.          </th> <td>    147.</td>\n",
       "</tr>\n",
       "</table><br/><br/>Notes:<br/>[1] Standard Errors assume that the covariance matrix of the errors is correctly specified."
      ],
      "text/plain": [
       "<class 'statsmodels.iolib.summary.Summary'>\n",
       "\"\"\"\n",
       "                            OLS Regression Results                            \n",
       "==============================================================================\n",
       "Dep. Variable:                   발생건수   R-squared:                       0.554\n",
       "Model:                            OLS   Adj. R-squared:                  0.553\n",
       "Method:                 Least Squares   F-statistic:                     399.9\n",
       "Date:                Sun, 30 May 2021   Prob (F-statistic):           2.13e-58\n",
       "Time:                        14:54:21   Log-Likelihood:                -3800.1\n",
       "No. Observations:                 324   AIC:                             7604.\n",
       "Df Residuals:                     322   BIC:                             7612.\n",
       "Df Model:                           1                                         \n",
       "Covariance Type:            nonrobust                                         \n",
       "==============================================================================\n",
       "                 coef    std err          t      P>|t|      [0.025      0.975]\n",
       "------------------------------------------------------------------------------\n",
       "Intercept  -4.954e+04   5831.324     -8.496      0.000    -6.1e+04   -3.81e+04\n",
       "NO2         4.911e+06   2.46e+05     19.997      0.000    4.43e+06    5.39e+06\n",
       "==============================================================================\n",
       "Omnibus:                        5.578   Durbin-Watson:                   0.369\n",
       "Prob(Omnibus):                  0.061   Jarque-Bera (JB):                5.591\n",
       "Skew:                           0.322   Prob(JB):                       0.0611\n",
       "Kurtosis:                       2.975   Cond. No.                         147.\n",
       "==============================================================================\n",
       "\n",
       "Notes:\n",
       "[1] Standard Errors assume that the covariance matrix of the errors is correctly specified.\n",
       "\"\"\""
      ]
     },
     "execution_count": 105,
     "metadata": {},
     "output_type": "execute_result"
    }
   ],
   "source": [
    "from statsmodels.formula.api import ols\n",
    "\n",
    "res = ols('발생건수 ~ NO2', data=data_w).fit()\n",
    "res.summary()"
   ]
  },
  {
   "cell_type": "code",
   "execution_count": 106,
   "id": "5aecdbc7",
   "metadata": {},
   "outputs": [
    {
     "data": {
      "text/plain": [
       "Intercept   -4.954267e+04\n",
       "NO2          4.911391e+06\n",
       "dtype: float64"
      ]
     },
     "execution_count": 106,
     "metadata": {},
     "output_type": "execute_result"
    }
   ],
   "source": [
    "res.params"
   ]
  },
  {
   "cell_type": "markdown",
   "id": "cd655389",
   "metadata": {},
   "source": [
    "## 확인해야 할 것\n",
    "\n",
    "### R-squared : 모형 적합도(결정계수)라고 하며 독립변수가 종속변수를 얼마나 설명하는지 나타내는 지수\n",
    "\n",
    "### Adj. R-squared : 수정결정계수라고 한다. 독립변수의 개수와 표본의 크기를 고려하여 결정계수를 보정해 다중회귀분석에서 서로다른 모형을 비교할때 사용한다.\n",
    "\n",
    "### Prob (F-statistic) : 회귀모형에 대한 통계적 유의미성 결과, 0.05보다 낮아야 유의미함\n",
    "    \n",
    "### coef : 독립변수의 추정치로 독립변수가 1증가할때 y는 coef 만큼 증가한다고 볼 수 있다. 이 값이 높을 수록 종속변수에 영향을 많이준다고 할 수 있다.\n",
    "    "
   ]
  },
  {
   "cell_type": "code",
   "execution_count": 107,
   "id": "30f48b21",
   "metadata": {},
   "outputs": [],
   "source": [
    "# 회귀분석 가정 만족"
   ]
  },
  {
   "cell_type": "code",
   "execution_count": 108,
   "id": "2a4289b6",
   "metadata": {},
   "outputs": [],
   "source": [
    "\n",
    "import scipy.stats\n",
    "import seaborn as sns"
   ]
  },
  {
   "cell_type": "code",
   "execution_count": 109,
   "id": "6eae84b6",
   "metadata": {},
   "outputs": [],
   "source": [
    "fitted = res.predict(data_w['NO2'])"
   ]
  },
  {
   "cell_type": "code",
   "execution_count": 110,
   "id": "113848e0",
   "metadata": {},
   "outputs": [],
   "source": [
    "residual = data_w['발생건수'] - fitted"
   ]
  },
  {
   "cell_type": "code",
   "execution_count": 111,
   "id": "6aedcb12",
   "metadata": {},
   "outputs": [],
   "source": [
    "sr = scipy.stats.zscore(residual)"
   ]
  },
  {
   "cell_type": "code",
   "execution_count": 112,
   "id": "ef18f552",
   "metadata": {},
   "outputs": [],
   "source": [
    "(x,y),_ = scipy.stats.probplot(sr)"
   ]
  },
  {
   "cell_type": "code",
   "execution_count": 113,
   "id": "45253892",
   "metadata": {},
   "outputs": [
    {
     "data": {
      "text/plain": [
       "[<matplotlib.lines.Line2D at 0x2b55d10a250>]"
      ]
     },
     "execution_count": 113,
     "metadata": {},
     "output_type": "execute_result"
    },
    {
     "data": {
      "image/png": "[encoded data removed]",
      "text/plain": [
       "<Figure size 432x288 with 1 Axes>"
      ]
     },
     "metadata": {
      "needs_background": "light"
     },
     "output_type": "display_data"
    }
   ],
   "source": [
    "# 적합시킨 직선 시각화\n",
    "\n",
    "import matplotlib.pyplot as plt                     # 파이썬 시각화 라이브러리 \n",
    " \n",
    "plt.yticks(fontname = \"Arial\")                      \n",
    "plt.scatter(data_w['NO2'],data_w['발생건수'])               # 실제 데이터 분포를 알아보기 위한산점도 표기 방법이다. \n",
    "                                                    # 점의 label은 \"data\"로 정해주었다.\n",
    "plt.plot(data_w['NO2'],fitted,label = \"result\")               # 회귀선 표기를 위한 선형 그래프이다\n",
    "#                                                     # label은 \"result\"로 정해주었다.\n",
    "# plt.legend()                                        # plt.legend()함수는 범주를 plot에 그리는 함수이다.\n",
    "# plt.show()"
   ]
  },
  {
   "cell_type": "code",
   "execution_count": 114,
   "id": "59959a87",
   "metadata": {},
   "outputs": [],
   "source": [
    "# 잔차의 정규성"
   ]
  },
  {
   "cell_type": "code",
   "execution_count": 115,
   "id": "c86abe2a",
   "metadata": {},
   "outputs": [
    {
     "name": "stderr",
     "output_type": "stream",
     "text": [
      "c:\\users\\kyun\\appdata\\local\\programs\\python\\python39\\lib\\site-packages\\seaborn\\_decorators.py:36: FutureWarning: Pass the following variables as keyword args: x, y. From version 0.12, the only valid positional argument will be `data`, and passing other arguments without an explicit keyword will result in an error or misinterpretation.\n",
      "  warnings.warn(\n"
     ]
    },
    {
     "data": {
      "text/plain": [
       "[<matplotlib.lines.Line2D at 0x2b55d1643a0>]"
      ]
     },
     "execution_count": 115,
     "metadata": {},
     "output_type": "execute_result"
    },
    {
     "data": {
      "image/png": "[encoded data removed]",
      "text/plain": [
       "<Figure size 432x288 with 1 Axes>"
      ]
     },
     "metadata": {
      "needs_background": "light"
     },
     "output_type": "display_data"
    }
   ],
   "source": [
    "sns.scatterplot(x,y)\n",
    "plt.plot([-3,3],[-3,3],'--', color='red')"
   ]
  },
  {
   "cell_type": "code",
   "execution_count": 116,
   "id": "bd824fc5",
   "metadata": {},
   "outputs": [
    {
     "data": {
      "text/plain": [
       "ShapiroResult(statistic=0.9855484366416931, pvalue=0.0024736332707107067)"
      ]
     },
     "execution_count": 116,
     "metadata": {},
     "output_type": "execute_result"
    }
   ],
   "source": [
    "scipy.stats.shapiro(residual)"
   ]
  },
  {
   "cell_type": "markdown",
   "id": "b63fce72",
   "metadata": {},
   "source": [
    "#### 샤피로 테스트에서 h0는 잔차는 정규성을 따른다 이므로 정규성 위반"
   ]
  },
  {
   "cell_type": "code",
   "execution_count": 117,
   "id": "24032f68",
   "metadata": {},
   "outputs": [],
   "source": [
    "# 잔차의 등분산성"
   ]
  },
  {
   "cell_type": "code",
   "execution_count": 118,
   "id": "e2114032",
   "metadata": {},
   "outputs": [
    {
     "data": {
      "text/plain": [
       "[<matplotlib.lines.Line2D at 0x2b55e1958b0>]"
      ]
     },
     "execution_count": 118,
     "metadata": {},
     "output_type": "execute_result"
    },
    {
     "data": {
      "image/png": "[encoded data removed]",
      "text/plain": [
       "<Figure size 432x288 with 1 Axes>"
      ]
     },
     "metadata": {
      "needs_background": "light"
     },
     "output_type": "display_data"
    }
   ],
   "source": [
    "plt.scatter(data_w['NO2'],residual) \n",
    "plt.plot([0.01,0.04],[0,0],'--', color='red')"
   ]
  },
  {
   "cell_type": "markdown",
   "id": "d3c17b4c",
   "metadata": {},
   "source": [
    "## 아주 고르게 분포되어있진 않지만, 어느정도 그룹이 나뉘어져 있는거 같다.\n",
    "## 다른 변수를 추가 고려해야한다."
   ]
  },
  {
   "cell_type": "code",
   "execution_count": 119,
   "id": "ebc6f4a0",
   "metadata": {},
   "outputs": [],
   "source": [
    "# 다중회귀분석\n",
    "# 로지스틱분석\n",
    "# "
   ]
  },
  {
   "cell_type": "code",
   "execution_count": 120,
   "id": "37f3a0a6",
   "metadata": {},
   "outputs": [],
   "source": [
    "# 다중 회귀 분석"
   ]
  },
  {
   "cell_type": "code",
   "execution_count": 121,
   "id": "8cea03c1",
   "metadata": {},
   "outputs": [
    {
     "data": {
      "text/plain": [
       "Index(['날짜', '시도지역', '일수', '발생건수', '일평균 발생건수', '평균기온', '평균최고기온', '평균최저기온',\n",
       "       '평균일교차', '평균상대습도', '월합강수량', 'SO2', 'NO2', 'CO', 'PM10', '월별 인구수',\n",
       "       '0~14세', '65세 이상', '취약계층', '취약계층비율'],\n",
       "      dtype='object')"
      ]
     },
     "execution_count": 121,
     "metadata": {},
     "output_type": "execute_result"
    }
   ],
   "source": [
    "data_w.columns"
   ]
  },
  {
   "cell_type": "code",
   "execution_count": 122,
   "id": "afe59918",
   "metadata": {},
   "outputs": [
    {
     "data": {
      "text/plain": [
       "20"
      ]
     },
     "execution_count": 122,
     "metadata": {},
     "output_type": "execute_result"
    }
   ],
   "source": [
    "data_w.shape[1]"
   ]
  },
  {
   "cell_type": "code",
   "execution_count": 123,
   "id": "c9010610",
   "metadata": {},
   "outputs": [
    {
     "data": {
      "text/html": [
       "<div>\n",
       "<style scoped>\n",
       "    .dataframe tbody tr th:only-of-type {\n",
       "        vertical-align: middle;\n",
       "    }\n",
       "\n",
       "    .dataframe tbody tr th {\n",
       "        vertical-align: top;\n",
       "    }\n",
       "\n",
       "    .dataframe thead th {\n",
       "        text-align: right;\n",
       "    }\n",
       "</style>\n",
       "<table border=\"1\" class=\"dataframe\">\n",
       "  <thead>\n",
       "    <tr style=\"text-align: right;\">\n",
       "      <th></th>\n",
       "      <th>VIF Factor</th>\n",
       "      <th>features</th>\n",
       "    </tr>\n",
       "  </thead>\n",
       "  <tbody>\n",
       "    <tr>\n",
       "      <th>0</th>\n",
       "      <td>14.948740</td>\n",
       "      <td>NO2</td>\n",
       "    </tr>\n",
       "    <tr>\n",
       "      <th>1</th>\n",
       "      <td>7.616603</td>\n",
       "      <td>평균기온</td>\n",
       "    </tr>\n",
       "    <tr>\n",
       "      <th>2</th>\n",
       "      <td>14.359959</td>\n",
       "      <td>평균일교차</td>\n",
       "    </tr>\n",
       "    <tr>\n",
       "      <th>3</th>\n",
       "      <td>26.867532</td>\n",
       "      <td>평균상대습도</td>\n",
       "    </tr>\n",
       "    <tr>\n",
       "      <th>4</th>\n",
       "      <td>3.335866</td>\n",
       "      <td>월합강수량</td>\n",
       "    </tr>\n",
       "  </tbody>\n",
       "</table>\n",
       "</div>"
      ],
      "text/plain": [
       "   VIF Factor features\n",
       "0   14.948740      NO2\n",
       "1    7.616603     평균기온\n",
       "2   14.359959    평균일교차\n",
       "3   26.867532   평균상대습도\n",
       "4    3.335866    월합강수량"
      ]
     },
     "execution_count": 123,
     "metadata": {},
     "output_type": "execute_result"
    }
   ],
   "source": [
    "# 다중공선성 확인\n",
    "from statsmodels.stats.outliers_influence import variance_inflation_factor\n",
    "x_data = data_w[['NO2','평균기온','평균일교차','평균상대습도','월합강수량']]\n",
    "\n",
    "vif = pd.DataFrame()\n",
    "vif[\"VIF Factor\"] = [variance_inflation_factor(x_data.values, i) for i in range(x_data.shape[1])]\n",
    "vif[\"features\"] = x_data.columns\n",
    "vif"
   ]
  },
  {
   "cell_type": "code",
   "execution_count": 124,
   "id": "65a82386",
   "metadata": {},
   "outputs": [
    {
     "data": {
      "text/html": [
       "<div>\n",
       "<style scoped>\n",
       "    .dataframe tbody tr th:only-of-type {\n",
       "        vertical-align: middle;\n",
       "    }\n",
       "\n",
       "    .dataframe tbody tr th {\n",
       "        vertical-align: top;\n",
       "    }\n",
       "\n",
       "    .dataframe thead th {\n",
       "        text-align: right;\n",
       "    }\n",
       "</style>\n",
       "<table border=\"1\" class=\"dataframe\">\n",
       "  <thead>\n",
       "    <tr style=\"text-align: right;\">\n",
       "      <th></th>\n",
       "      <th>VIF Factor</th>\n",
       "      <th>features</th>\n",
       "    </tr>\n",
       "  </thead>\n",
       "  <tbody>\n",
       "    <tr>\n",
       "      <th>0</th>\n",
       "      <td>9.201434</td>\n",
       "      <td>NO2</td>\n",
       "    </tr>\n",
       "    <tr>\n",
       "      <th>1</th>\n",
       "      <td>5.294141</td>\n",
       "      <td>평균기온</td>\n",
       "    </tr>\n",
       "    <tr>\n",
       "      <th>2</th>\n",
       "      <td>13.287768</td>\n",
       "      <td>평균일교차</td>\n",
       "    </tr>\n",
       "    <tr>\n",
       "      <th>3</th>\n",
       "      <td>2.938036</td>\n",
       "      <td>월합강수량</td>\n",
       "    </tr>\n",
       "  </tbody>\n",
       "</table>\n",
       "</div>"
      ],
      "text/plain": [
       "   VIF Factor features\n",
       "0    9.201434      NO2\n",
       "1    5.294141     평균기온\n",
       "2   13.287768    평균일교차\n",
       "3    2.938036    월합강수량"
      ]
     },
     "execution_count": 124,
     "metadata": {},
     "output_type": "execute_result"
    }
   ],
   "source": [
    "# 다중 공선성이 10이 넘으면 제거 고려, 하나씩 제거하면서 vif확인\n",
    "vif = pd.DataFrame()\n",
    "x_data = x_data.drop(\"평균상대습도\",axis=1)\n",
    "vif[\"VIF Factor\"] = [variance_inflation_factor(x_data.values, i) for i in range(x_data.shape[1])]\n",
    "vif[\"features\"] = x_data.columns\n",
    "vif"
   ]
  },
  {
   "cell_type": "code",
   "execution_count": 125,
   "id": "4231a729",
   "metadata": {},
   "outputs": [
    {
     "data": {
      "text/html": [
       "<div>\n",
       "<style scoped>\n",
       "    .dataframe tbody tr th:only-of-type {\n",
       "        vertical-align: middle;\n",
       "    }\n",
       "\n",
       "    .dataframe tbody tr th {\n",
       "        vertical-align: top;\n",
       "    }\n",
       "\n",
       "    .dataframe thead th {\n",
       "        text-align: right;\n",
       "    }\n",
       "</style>\n",
       "<table border=\"1\" class=\"dataframe\">\n",
       "  <thead>\n",
       "    <tr style=\"text-align: right;\">\n",
       "      <th></th>\n",
       "      <th>VIF Factor</th>\n",
       "      <th>features</th>\n",
       "    </tr>\n",
       "  </thead>\n",
       "  <tbody>\n",
       "    <tr>\n",
       "      <th>0</th>\n",
       "      <td>1.914625</td>\n",
       "      <td>NO2</td>\n",
       "    </tr>\n",
       "    <tr>\n",
       "      <th>1</th>\n",
       "      <td>3.652156</td>\n",
       "      <td>평균기온</td>\n",
       "    </tr>\n",
       "    <tr>\n",
       "      <th>2</th>\n",
       "      <td>2.853524</td>\n",
       "      <td>월합강수량</td>\n",
       "    </tr>\n",
       "  </tbody>\n",
       "</table>\n",
       "</div>"
      ],
      "text/plain": [
       "   VIF Factor features\n",
       "0    1.914625      NO2\n",
       "1    3.652156     평균기온\n",
       "2    2.853524    월합강수량"
      ]
     },
     "execution_count": 125,
     "metadata": {},
     "output_type": "execute_result"
    }
   ],
   "source": [
    "# 다중 공선성이 10이 넘으면 제거 고려, 하나씩 제거하면서 vif확인\n",
    "vif = pd.DataFrame()\n",
    "x_data = x_data.drop(\"평균일교차\",axis=1)\n",
    "vif[\"VIF Factor\"] = [variance_inflation_factor(x_data.values, i) for i in range(x_data.shape[1])]\n",
    "vif[\"features\"] = x_data.columns\n",
    "vif"
   ]
  },
  {
   "cell_type": "code",
   "execution_count": 126,
   "id": "2992771e",
   "metadata": {},
   "outputs": [
    {
     "data": {
      "text/html": [
       "<table class=\"simpletable\">\n",
       "<caption>OLS Regression Results</caption>\n",
       "<tr>\n",
       "  <th>Dep. Variable:</th>          <td>발생건수</td>       <th>  R-squared:         </th> <td>   0.685</td>\n",
       "</tr>\n",
       "<tr>\n",
       "  <th>Model:</th>                   <td>OLS</td>       <th>  Adj. R-squared:    </th> <td>   0.682</td>\n",
       "</tr>\n",
       "<tr>\n",
       "  <th>Method:</th>             <td>Least Squares</td>  <th>  F-statistic:       </th> <td>   231.6</td>\n",
       "</tr>\n",
       "<tr>\n",
       "  <th>Date:</th>             <td>Sun, 30 May 2021</td> <th>  Prob (F-statistic):</th> <td>7.68e-80</td>\n",
       "</tr>\n",
       "<tr>\n",
       "  <th>Time:</th>                 <td>14:54:27</td>     <th>  Log-Likelihood:    </th> <td> -3743.9</td>\n",
       "</tr>\n",
       "<tr>\n",
       "  <th>No. Observations:</th>      <td>   324</td>      <th>  AIC:               </th> <td>   7496.</td>\n",
       "</tr>\n",
       "<tr>\n",
       "  <th>Df Residuals:</th>          <td>   320</td>      <th>  BIC:               </th> <td>   7511.</td>\n",
       "</tr>\n",
       "<tr>\n",
       "  <th>Df Model:</th>              <td>     3</td>      <th>                     </th>     <td> </td>   \n",
       "</tr>\n",
       "<tr>\n",
       "  <th>Covariance Type:</th>      <td>nonrobust</td>    <th>                     </th>     <td> </td>   \n",
       "</tr>\n",
       "</table>\n",
       "<table class=\"simpletable\">\n",
       "<tr>\n",
       "      <td></td>         <th>coef</th>     <th>std err</th>      <th>t</th>      <th>P>|t|</th>  <th>[0.025</th>    <th>0.975]</th>  \n",
       "</tr>\n",
       "<tr>\n",
       "  <th>Intercept</th> <td>-1.304e+05</td> <td> 8580.358</td> <td>  -15.199</td> <td> 0.000</td> <td>-1.47e+05</td> <td>-1.14e+05</td>\n",
       "</tr>\n",
       "<tr>\n",
       "  <th>NO2</th>       <td> 7.033e+06</td> <td> 2.78e+05</td> <td>   25.345</td> <td> 0.000</td> <td> 6.49e+06</td> <td> 7.58e+06</td>\n",
       "</tr>\n",
       "<tr>\n",
       "  <th>평균기온</th>      <td> 2174.1654</td> <td>  221.696</td> <td>    9.807</td> <td> 0.000</td> <td> 1737.999</td> <td> 2610.332</td>\n",
       "</tr>\n",
       "<tr>\n",
       "  <th>월합강수량</th>     <td>   30.6476</td> <td>   18.444</td> <td>    1.662</td> <td> 0.098</td> <td>   -5.639</td> <td>   66.934</td>\n",
       "</tr>\n",
       "</table>\n",
       "<table class=\"simpletable\">\n",
       "<tr>\n",
       "  <th>Omnibus:</th>       <td>10.700</td> <th>  Durbin-Watson:     </th> <td>   0.700</td>\n",
       "</tr>\n",
       "<tr>\n",
       "  <th>Prob(Omnibus):</th> <td> 0.005</td> <th>  Jarque-Bera (JB):  </th> <td>  17.786</td>\n",
       "</tr>\n",
       "<tr>\n",
       "  <th>Skew:</th>          <td> 0.179</td> <th>  Prob(JB):          </th> <td>0.000137</td>\n",
       "</tr>\n",
       "<tr>\n",
       "  <th>Kurtosis:</th>      <td> 4.091</td> <th>  Cond. No.          </th> <td>2.59e+04</td>\n",
       "</tr>\n",
       "</table><br/><br/>Notes:<br/>[1] Standard Errors assume that the covariance matrix of the errors is correctly specified.<br/>[2] The condition number is large, 2.59e+04. This might indicate that there are<br/>strong multicollinearity or other numerical problems."
      ],
      "text/plain": [
       "<class 'statsmodels.iolib.summary.Summary'>\n",
       "\"\"\"\n",
       "                            OLS Regression Results                            \n",
       "==============================================================================\n",
       "Dep. Variable:                   발생건수   R-squared:                       0.685\n",
       "Model:                            OLS   Adj. R-squared:                  0.682\n",
       "Method:                 Least Squares   F-statistic:                     231.6\n",
       "Date:                Sun, 30 May 2021   Prob (F-statistic):           7.68e-80\n",
       "Time:                        14:54:27   Log-Likelihood:                -3743.9\n",
       "No. Observations:                 324   AIC:                             7496.\n",
       "Df Residuals:                     320   BIC:                             7511.\n",
       "Df Model:                           3                                         \n",
       "Covariance Type:            nonrobust                                         \n",
       "==============================================================================\n",
       "                 coef    std err          t      P>|t|      [0.025      0.975]\n",
       "------------------------------------------------------------------------------\n",
       "Intercept  -1.304e+05   8580.358    -15.199      0.000   -1.47e+05   -1.14e+05\n",
       "NO2         7.033e+06   2.78e+05     25.345      0.000    6.49e+06    7.58e+06\n",
       "평균기온        2174.1654    221.696      9.807      0.000    1737.999    2610.332\n",
       "월합강수량         30.6476     18.444      1.662      0.098      -5.639      66.934\n",
       "==============================================================================\n",
       "Omnibus:                       10.700   Durbin-Watson:                   0.700\n",
       "Prob(Omnibus):                  0.005   Jarque-Bera (JB):               17.786\n",
       "Skew:                           0.179   Prob(JB):                     0.000137\n",
       "Kurtosis:                       4.091   Cond. No.                     2.59e+04\n",
       "==============================================================================\n",
       "\n",
       "Notes:\n",
       "[1] Standard Errors assume that the covariance matrix of the errors is correctly specified.\n",
       "[2] The condition number is large, 2.59e+04. This might indicate that there are\n",
       "strong multicollinearity or other numerical problems.\n",
       "\"\"\""
      ]
     },
     "execution_count": 126,
     "metadata": {},
     "output_type": "execute_result"
    }
   ],
   "source": [
    "res = ols('발생건수 ~ NO2+평균기온+월합강수량',\n",
    "          data=data_w).fit()\n",
    "res.summary()"
   ]
  },
  {
   "cell_type": "code",
   "execution_count": 127,
   "id": "fb9e5a2c",
   "metadata": {},
   "outputs": [
    {
     "name": "stderr",
     "output_type": "stream",
     "text": [
      "c:\\users\\kyun\\appdata\\local\\programs\\python\\python39\\lib\\site-packages\\seaborn\\_decorators.py:36: FutureWarning: Pass the following variables as keyword args: x, y. From version 0.12, the only valid positional argument will be `data`, and passing other arguments without an explicit keyword will result in an error or misinterpretation.\n",
      "  warnings.warn(\n",
      "c:\\users\\kyun\\appdata\\local\\programs\\python\\python39\\lib\\site-packages\\seaborn\\_decorators.py:36: FutureWarning: Pass the following variables as keyword args: x, y. From version 0.12, the only valid positional argument will be `data`, and passing other arguments without an explicit keyword will result in an error or misinterpretation.\n",
      "  warnings.warn(\n",
      "c:\\users\\kyun\\appdata\\local\\programs\\python\\python39\\lib\\site-packages\\seaborn\\_decorators.py:36: FutureWarning: Pass the following variables as keyword args: x, y. From version 0.12, the only valid positional argument will be `data`, and passing other arguments without an explicit keyword will result in an error or misinterpretation.\n",
      "  warnings.warn(\n"
     ]
    },
    {
     "data": {
      "text/plain": [
       "<AxesSubplot:xlabel='월합강수량', ylabel='발생건수'>"
      ]
     },
     "execution_count": 127,
     "metadata": {},
     "output_type": "execute_result"
    },
    {
     "data": {
      "image/png": "[encoded data removed]",
      "text/plain": [
       "<Figure size 1296x720 with 3 Axes>"
      ]
     },
     "metadata": {
      "needs_background": "light"
     },
     "output_type": "display_data"
    }
   ],
   "source": [
    "plt.figure(figsize=[18,10])\n",
    "plt.subplot(1, 3, 1)   # 1 x 3 그래프 배열에서 첫 번째 그래프\n",
    "sns.regplot('NO2', '발생건수', data=data_w, color='red')\n",
    "plt.subplot(1, 3, 2)   # 1 x 3 그래프 배열에서 두 번째 그래프\n",
    "sns.regplot('평균기온', '발생건수', data=data_w, color='blue')\n",
    "plt.subplot(1, 3, 3)   # 1 x 3 그래프 배열에서 세 번째 그래프\n",
    "sns.regplot('월합강수량', '발생건수', data=data_w, color='green')\n"
   ]
  },
  {
   "cell_type": "code",
   "execution_count": 128,
   "id": "add13435",
   "metadata": {},
   "outputs": [
    {
     "data": {
      "image/png": "[encoded data removed]",
      "text/plain": [
       "<Figure size 432x288 with 1 Axes>"
      ]
     },
     "metadata": {
      "needs_background": "light"
     },
     "output_type": "display_data"
    }
   ],
   "source": [
    "# 검증데이터에 대한 예측값과 true값 비교\n",
    "import numpy as np\n",
    "plt.plot(np.array(res.predict(x_data)),label = \"pred\")\n",
    "plt.plot(np.array(data_w['발생건수']),label = \"true\")\n",
    "plt.legend()\n",
    "plt.show()"
   ]
  },
  {
   "cell_type": "code",
   "execution_count": 129,
   "id": "f6b54169",
   "metadata": {
    "scrolled": true
   },
   "outputs": [],
   "source": [
    "# 무조건 다중공선성이 좋은 회귀계수를 만들어 주는 것은 아니다.\n",
    "\n",
    "# res = ols('발생건수 ~ NO2+평균기온+평균일교차+월합강수량+평균상대습도+취약계층비율',\n",
    "#           data=data_w).fit()\n",
    "# res.summary()\n",
    "\n",
    "# import numpy as np\n",
    "# plt.plot(np.array(res.predict(data_w[['NO2','평균기온','평균일교차',\n",
    "#                                       '월합강수량','평균상대습도',\n",
    "#                                       '취약계층비율']])),label = \"pred\")\n",
    "# plt.plot(np.array(data_w['발생건수']),label = \"true\")\n",
    "# plt.legend()\n",
    "# plt.show()"
   ]
  },
  {
   "cell_type": "code",
   "execution_count": 130,
   "id": "d28b0a40",
   "metadata": {},
   "outputs": [
    {
     "data": {
      "text/html": [
       "<div>\n",
       "<style scoped>\n",
       "    .dataframe tbody tr th:only-of-type {\n",
       "        vertical-align: middle;\n",
       "    }\n",
       "\n",
       "    .dataframe tbody tr th {\n",
       "        vertical-align: top;\n",
       "    }\n",
       "\n",
       "    .dataframe thead th {\n",
       "        text-align: right;\n",
       "    }\n",
       "</style>\n",
       "<table border=\"1\" class=\"dataframe\">\n",
       "  <thead>\n",
       "    <tr style=\"text-align: right;\">\n",
       "      <th></th>\n",
       "      <th>광주</th>\n",
       "      <th>대구</th>\n",
       "      <th>대전</th>\n",
       "      <th>부산</th>\n",
       "      <th>서울</th>\n",
       "      <th>인천</th>\n",
       "    </tr>\n",
       "  </thead>\n",
       "  <tbody>\n",
       "    <tr>\n",
       "      <th>0</th>\n",
       "      <td>0</td>\n",
       "      <td>0</td>\n",
       "      <td>0</td>\n",
       "      <td>0</td>\n",
       "      <td>1</td>\n",
       "      <td>0</td>\n",
       "    </tr>\n",
       "    <tr>\n",
       "      <th>1</th>\n",
       "      <td>0</td>\n",
       "      <td>0</td>\n",
       "      <td>0</td>\n",
       "      <td>0</td>\n",
       "      <td>1</td>\n",
       "      <td>0</td>\n",
       "    </tr>\n",
       "    <tr>\n",
       "      <th>2</th>\n",
       "      <td>0</td>\n",
       "      <td>0</td>\n",
       "      <td>0</td>\n",
       "      <td>0</td>\n",
       "      <td>1</td>\n",
       "      <td>0</td>\n",
       "    </tr>\n",
       "    <tr>\n",
       "      <th>3</th>\n",
       "      <td>0</td>\n",
       "      <td>0</td>\n",
       "      <td>0</td>\n",
       "      <td>0</td>\n",
       "      <td>1</td>\n",
       "      <td>0</td>\n",
       "    </tr>\n",
       "    <tr>\n",
       "      <th>4</th>\n",
       "      <td>0</td>\n",
       "      <td>0</td>\n",
       "      <td>0</td>\n",
       "      <td>0</td>\n",
       "      <td>1</td>\n",
       "      <td>0</td>\n",
       "    </tr>\n",
       "    <tr>\n",
       "      <th>...</th>\n",
       "      <td>...</td>\n",
       "      <td>...</td>\n",
       "      <td>...</td>\n",
       "      <td>...</td>\n",
       "      <td>...</td>\n",
       "      <td>...</td>\n",
       "    </tr>\n",
       "    <tr>\n",
       "      <th>319</th>\n",
       "      <td>0</td>\n",
       "      <td>0</td>\n",
       "      <td>1</td>\n",
       "      <td>0</td>\n",
       "      <td>0</td>\n",
       "      <td>0</td>\n",
       "    </tr>\n",
       "    <tr>\n",
       "      <th>320</th>\n",
       "      <td>0</td>\n",
       "      <td>0</td>\n",
       "      <td>1</td>\n",
       "      <td>0</td>\n",
       "      <td>0</td>\n",
       "      <td>0</td>\n",
       "    </tr>\n",
       "    <tr>\n",
       "      <th>321</th>\n",
       "      <td>0</td>\n",
       "      <td>0</td>\n",
       "      <td>1</td>\n",
       "      <td>0</td>\n",
       "      <td>0</td>\n",
       "      <td>0</td>\n",
       "    </tr>\n",
       "    <tr>\n",
       "      <th>322</th>\n",
       "      <td>0</td>\n",
       "      <td>0</td>\n",
       "      <td>1</td>\n",
       "      <td>0</td>\n",
       "      <td>0</td>\n",
       "      <td>0</td>\n",
       "    </tr>\n",
       "    <tr>\n",
       "      <th>323</th>\n",
       "      <td>0</td>\n",
       "      <td>0</td>\n",
       "      <td>1</td>\n",
       "      <td>0</td>\n",
       "      <td>0</td>\n",
       "      <td>0</td>\n",
       "    </tr>\n",
       "  </tbody>\n",
       "</table>\n",
       "<p>324 rows × 6 columns</p>\n",
       "</div>"
      ],
      "text/plain": [
       "     광주  대구  대전  부산  서울  인천\n",
       "0     0   0   0   0   1   0\n",
       "1     0   0   0   0   1   0\n",
       "2     0   0   0   0   1   0\n",
       "3     0   0   0   0   1   0\n",
       "4     0   0   0   0   1   0\n",
       "..   ..  ..  ..  ..  ..  ..\n",
       "319   0   0   1   0   0   0\n",
       "320   0   0   1   0   0   0\n",
       "321   0   0   1   0   0   0\n",
       "322   0   0   1   0   0   0\n",
       "323   0   0   1   0   0   0\n",
       "\n",
       "[324 rows x 6 columns]"
      ]
     },
     "execution_count": 130,
     "metadata": {},
     "output_type": "execute_result"
    }
   ],
   "source": [
    "# 마지막 그래프를 보니 뭔가 그룹이 있는 것 같다.\n",
    "# 확인해보니 지역별로 정렬 되어 있었다.\n",
    "# 지역 변수를 추가 해보자\n",
    "\n",
    "# 더비변수 만들기\n",
    "\n",
    "dummy_region = pd.get_dummies(data_w['시도지역'])\n",
    "dummy_region"
   ]
  },
  {
   "cell_type": "code",
   "execution_count": 131,
   "id": "5d5c9f25",
   "metadata": {},
   "outputs": [
    {
     "data": {
      "text/html": [
       "<div>\n",
       "<style scoped>\n",
       "    .dataframe tbody tr th:only-of-type {\n",
       "        vertical-align: middle;\n",
       "    }\n",
       "\n",
       "    .dataframe tbody tr th {\n",
       "        vertical-align: top;\n",
       "    }\n",
       "\n",
       "    .dataframe thead th {\n",
       "        text-align: right;\n",
       "    }\n",
       "</style>\n",
       "<table border=\"1\" class=\"dataframe\">\n",
       "  <thead>\n",
       "    <tr style=\"text-align: right;\">\n",
       "      <th></th>\n",
       "      <th>날짜</th>\n",
       "      <th>시도지역</th>\n",
       "      <th>일수</th>\n",
       "      <th>발생건수</th>\n",
       "      <th>일평균 발생건수</th>\n",
       "      <th>평균기온</th>\n",
       "      <th>평균최고기온</th>\n",
       "      <th>평균최저기온</th>\n",
       "      <th>평균일교차</th>\n",
       "      <th>평균상대습도</th>\n",
       "      <th>...</th>\n",
       "      <th>0~14세</th>\n",
       "      <th>65세 이상</th>\n",
       "      <th>취약계층</th>\n",
       "      <th>취약계층비율</th>\n",
       "      <th>광주</th>\n",
       "      <th>대구</th>\n",
       "      <th>대전</th>\n",
       "      <th>부산</th>\n",
       "      <th>서울</th>\n",
       "      <th>인천</th>\n",
       "    </tr>\n",
       "  </thead>\n",
       "  <tbody>\n",
       "    <tr>\n",
       "      <th>0</th>\n",
       "      <td>201401</td>\n",
       "      <td>서울</td>\n",
       "      <td>31</td>\n",
       "      <td>186096</td>\n",
       "      <td>6003</td>\n",
       "      <td>-0.7</td>\n",
       "      <td>3.5</td>\n",
       "      <td>-4.9</td>\n",
       "      <td>8.4</td>\n",
       "      <td>50</td>\n",
       "      <td>...</td>\n",
       "      <td>1286747</td>\n",
       "      <td>1167971</td>\n",
       "      <td>2454718</td>\n",
       "      <td>0.242007</td>\n",
       "      <td>0</td>\n",
       "      <td>0</td>\n",
       "      <td>0</td>\n",
       "      <td>0</td>\n",
       "      <td>1</td>\n",
       "      <td>0</td>\n",
       "    </tr>\n",
       "    <tr>\n",
       "      <th>1</th>\n",
       "      <td>201402</td>\n",
       "      <td>서울</td>\n",
       "      <td>28</td>\n",
       "      <td>203884</td>\n",
       "      <td>7282</td>\n",
       "      <td>1.9</td>\n",
       "      <td>6.6</td>\n",
       "      <td>-1.8</td>\n",
       "      <td>8.4</td>\n",
       "      <td>52</td>\n",
       "      <td>...</td>\n",
       "      <td>1282865</td>\n",
       "      <td>1173044</td>\n",
       "      <td>2455909</td>\n",
       "      <td>0.242100</td>\n",
       "      <td>0</td>\n",
       "      <td>0</td>\n",
       "      <td>0</td>\n",
       "      <td>0</td>\n",
       "      <td>1</td>\n",
       "      <td>0</td>\n",
       "    </tr>\n",
       "    <tr>\n",
       "      <th>2</th>\n",
       "      <td>201403</td>\n",
       "      <td>서울</td>\n",
       "      <td>31</td>\n",
       "      <td>187153</td>\n",
       "      <td>6037</td>\n",
       "      <td>7.9</td>\n",
       "      <td>13.1</td>\n",
       "      <td>3.5</td>\n",
       "      <td>9.6</td>\n",
       "      <td>60</td>\n",
       "      <td>...</td>\n",
       "      <td>1278461</td>\n",
       "      <td>1178004</td>\n",
       "      <td>2456465</td>\n",
       "      <td>0.242214</td>\n",
       "      <td>0</td>\n",
       "      <td>0</td>\n",
       "      <td>0</td>\n",
       "      <td>0</td>\n",
       "      <td>1</td>\n",
       "      <td>0</td>\n",
       "    </tr>\n",
       "    <tr>\n",
       "      <th>3</th>\n",
       "      <td>201404</td>\n",
       "      <td>서울</td>\n",
       "      <td>30</td>\n",
       "      <td>210748</td>\n",
       "      <td>7025</td>\n",
       "      <td>14.0</td>\n",
       "      <td>19.6</td>\n",
       "      <td>9.4</td>\n",
       "      <td>10.2</td>\n",
       "      <td>60</td>\n",
       "      <td>...</td>\n",
       "      <td>1274956</td>\n",
       "      <td>1181329</td>\n",
       "      <td>2456285</td>\n",
       "      <td>0.242301</td>\n",
       "      <td>0</td>\n",
       "      <td>0</td>\n",
       "      <td>0</td>\n",
       "      <td>0</td>\n",
       "      <td>1</td>\n",
       "      <td>0</td>\n",
       "    </tr>\n",
       "    <tr>\n",
       "      <th>4</th>\n",
       "      <td>201405</td>\n",
       "      <td>서울</td>\n",
       "      <td>31</td>\n",
       "      <td>180015</td>\n",
       "      <td>5807</td>\n",
       "      <td>18.9</td>\n",
       "      <td>25.3</td>\n",
       "      <td>13.8</td>\n",
       "      <td>11.5</td>\n",
       "      <td>59</td>\n",
       "      <td>...</td>\n",
       "      <td>1271744</td>\n",
       "      <td>1185221</td>\n",
       "      <td>2456965</td>\n",
       "      <td>0.242454</td>\n",
       "      <td>0</td>\n",
       "      <td>0</td>\n",
       "      <td>0</td>\n",
       "      <td>0</td>\n",
       "      <td>1</td>\n",
       "      <td>0</td>\n",
       "    </tr>\n",
       "    <tr>\n",
       "      <th>...</th>\n",
       "      <td>...</td>\n",
       "      <td>...</td>\n",
       "      <td>...</td>\n",
       "      <td>...</td>\n",
       "      <td>...</td>\n",
       "      <td>...</td>\n",
       "      <td>...</td>\n",
       "      <td>...</td>\n",
       "      <td>...</td>\n",
       "      <td>...</td>\n",
       "      <td>...</td>\n",
       "      <td>...</td>\n",
       "      <td>...</td>\n",
       "      <td>...</td>\n",
       "      <td>...</td>\n",
       "      <td>...</td>\n",
       "      <td>...</td>\n",
       "      <td>...</td>\n",
       "      <td>...</td>\n",
       "      <td>...</td>\n",
       "      <td>...</td>\n",
       "    </tr>\n",
       "    <tr>\n",
       "      <th>319</th>\n",
       "      <td>201802</td>\n",
       "      <td>대전</td>\n",
       "      <td>28</td>\n",
       "      <td>18480</td>\n",
       "      <td>660</td>\n",
       "      <td>-0.4</td>\n",
       "      <td>5.6</td>\n",
       "      <td>-5.7</td>\n",
       "      <td>11.3</td>\n",
       "      <td>53</td>\n",
       "      <td>...</td>\n",
       "      <td>207659</td>\n",
       "      <td>182109</td>\n",
       "      <td>389768</td>\n",
       "      <td>0.259986</td>\n",
       "      <td>0</td>\n",
       "      <td>0</td>\n",
       "      <td>1</td>\n",
       "      <td>0</td>\n",
       "      <td>0</td>\n",
       "      <td>0</td>\n",
       "    </tr>\n",
       "    <tr>\n",
       "      <th>320</th>\n",
       "      <td>201803</td>\n",
       "      <td>대전</td>\n",
       "      <td>31</td>\n",
       "      <td>22269</td>\n",
       "      <td>718</td>\n",
       "      <td>8.7</td>\n",
       "      <td>14.9</td>\n",
       "      <td>3.1</td>\n",
       "      <td>11.8</td>\n",
       "      <td>70</td>\n",
       "      <td>...</td>\n",
       "      <td>206714</td>\n",
       "      <td>182965</td>\n",
       "      <td>389679</td>\n",
       "      <td>0.260207</td>\n",
       "      <td>0</td>\n",
       "      <td>0</td>\n",
       "      <td>1</td>\n",
       "      <td>0</td>\n",
       "      <td>0</td>\n",
       "      <td>0</td>\n",
       "    </tr>\n",
       "    <tr>\n",
       "      <th>321</th>\n",
       "      <td>201804</td>\n",
       "      <td>대전</td>\n",
       "      <td>30</td>\n",
       "      <td>27716</td>\n",
       "      <td>924</td>\n",
       "      <td>13.9</td>\n",
       "      <td>20.3</td>\n",
       "      <td>7.8</td>\n",
       "      <td>12.5</td>\n",
       "      <td>64</td>\n",
       "      <td>...</td>\n",
       "      <td>205855</td>\n",
       "      <td>183605</td>\n",
       "      <td>389460</td>\n",
       "      <td>0.260313</td>\n",
       "      <td>0</td>\n",
       "      <td>0</td>\n",
       "      <td>1</td>\n",
       "      <td>0</td>\n",
       "      <td>0</td>\n",
       "      <td>0</td>\n",
       "    </tr>\n",
       "    <tr>\n",
       "      <th>322</th>\n",
       "      <td>201805</td>\n",
       "      <td>대전</td>\n",
       "      <td>31</td>\n",
       "      <td>25320</td>\n",
       "      <td>817</td>\n",
       "      <td>19.2</td>\n",
       "      <td>24.7</td>\n",
       "      <td>14.0</td>\n",
       "      <td>10.7</td>\n",
       "      <td>70</td>\n",
       "      <td>...</td>\n",
       "      <td>205191</td>\n",
       "      <td>184439</td>\n",
       "      <td>389630</td>\n",
       "      <td>0.260581</td>\n",
       "      <td>0</td>\n",
       "      <td>0</td>\n",
       "      <td>1</td>\n",
       "      <td>0</td>\n",
       "      <td>0</td>\n",
       "      <td>0</td>\n",
       "    </tr>\n",
       "    <tr>\n",
       "      <th>323</th>\n",
       "      <td>201806</td>\n",
       "      <td>대전</td>\n",
       "      <td>30</td>\n",
       "      <td>19042</td>\n",
       "      <td>635</td>\n",
       "      <td>23.6</td>\n",
       "      <td>29.1</td>\n",
       "      <td>18.8</td>\n",
       "      <td>10.3</td>\n",
       "      <td>68</td>\n",
       "      <td>...</td>\n",
       "      <td>204670</td>\n",
       "      <td>184961</td>\n",
       "      <td>389631</td>\n",
       "      <td>0.260644</td>\n",
       "      <td>0</td>\n",
       "      <td>0</td>\n",
       "      <td>1</td>\n",
       "      <td>0</td>\n",
       "      <td>0</td>\n",
       "      <td>0</td>\n",
       "    </tr>\n",
       "  </tbody>\n",
       "</table>\n",
       "<p>324 rows × 26 columns</p>\n",
       "</div>"
      ],
      "text/plain": [
       "         날짜 시도지역  일수    발생건수  일평균 발생건수  평균기온  평균최고기온  평균최저기온  평균일교차  평균상대습도  \\\n",
       "0    201401   서울  31  186096      6003  -0.7     3.5    -4.9    8.4      50   \n",
       "1    201402   서울  28  203884      7282   1.9     6.6    -1.8    8.4      52   \n",
       "2    201403   서울  31  187153      6037   7.9    13.1     3.5    9.6      60   \n",
       "3    201404   서울  30  210748      7025  14.0    19.6     9.4   10.2      60   \n",
       "4    201405   서울  31  180015      5807  18.9    25.3    13.8   11.5      59   \n",
       "..      ...  ...  ..     ...       ...   ...     ...     ...    ...     ...   \n",
       "319  201802   대전  28   18480       660  -0.4     5.6    -5.7   11.3      53   \n",
       "320  201803   대전  31   22269       718   8.7    14.9     3.1   11.8      70   \n",
       "321  201804   대전  30   27716       924  13.9    20.3     7.8   12.5      64   \n",
       "322  201805   대전  31   25320       817  19.2    24.7    14.0   10.7      70   \n",
       "323  201806   대전  30   19042       635  23.6    29.1    18.8   10.3      68   \n",
       "\n",
       "     ...    0~14세   65세 이상     취약계층    취약계층비율  광주  대구  대전  부산  서울  인천  \n",
       "0    ...  1286747  1167971  2454718  0.242007   0   0   0   0   1   0  \n",
       "1    ...  1282865  1173044  2455909  0.242100   0   0   0   0   1   0  \n",
       "2    ...  1278461  1178004  2456465  0.242214   0   0   0   0   1   0  \n",
       "3    ...  1274956  1181329  2456285  0.242301   0   0   0   0   1   0  \n",
       "4    ...  1271744  1185221  2456965  0.242454   0   0   0   0   1   0  \n",
       "..   ...      ...      ...      ...       ...  ..  ..  ..  ..  ..  ..  \n",
       "319  ...   207659   182109   389768  0.259986   0   0   1   0   0   0  \n",
       "320  ...   206714   182965   389679  0.260207   0   0   1   0   0   0  \n",
       "321  ...   205855   183605   389460  0.260313   0   0   1   0   0   0  \n",
       "322  ...   205191   184439   389630  0.260581   0   0   1   0   0   0  \n",
       "323  ...   204670   184961   389631  0.260644   0   0   1   0   0   0  \n",
       "\n",
       "[324 rows x 26 columns]"
      ]
     },
     "execution_count": 131,
     "metadata": {},
     "output_type": "execute_result"
    }
   ],
   "source": [
    "data_w = pd.concat([data_w,dummy_region], axis=1)\n",
    "data_w"
   ]
  },
  {
   "cell_type": "code",
   "execution_count": 132,
   "id": "e171d4bd",
   "metadata": {},
   "outputs": [
    {
     "data": {
      "text/html": [
       "<table class=\"simpletable\">\n",
       "<caption>OLS Regression Results</caption>\n",
       "<tr>\n",
       "  <th>Dep. Variable:</th>          <td>발생건수</td>       <th>  R-squared:         </th> <td>   0.929</td> \n",
       "</tr>\n",
       "<tr>\n",
       "  <th>Model:</th>                   <td>OLS</td>       <th>  Adj. R-squared:    </th> <td>   0.928</td> \n",
       "</tr>\n",
       "<tr>\n",
       "  <th>Method:</th>             <td>Least Squares</td>  <th>  F-statistic:       </th> <td>   518.9</td> \n",
       "</tr>\n",
       "<tr>\n",
       "  <th>Date:</th>             <td>Sun, 30 May 2021</td> <th>  Prob (F-statistic):</th> <td>2.28e-176</td>\n",
       "</tr>\n",
       "<tr>\n",
       "  <th>Time:</th>                 <td>14:55:47</td>     <th>  Log-Likelihood:    </th> <td> -3501.3</td> \n",
       "</tr>\n",
       "<tr>\n",
       "  <th>No. Observations:</th>      <td>   324</td>      <th>  AIC:               </th> <td>   7021.</td> \n",
       "</tr>\n",
       "<tr>\n",
       "  <th>Df Residuals:</th>          <td>   315</td>      <th>  BIC:               </th> <td>   7055.</td> \n",
       "</tr>\n",
       "<tr>\n",
       "  <th>Df Model:</th>              <td>     8</td>      <th>                     </th>     <td> </td>    \n",
       "</tr>\n",
       "<tr>\n",
       "  <th>Covariance Type:</th>      <td>nonrobust</td>    <th>                     </th>     <td> </td>    \n",
       "</tr>\n",
       "</table>\n",
       "<table class=\"simpletable\">\n",
       "<tr>\n",
       "      <td></td>         <th>coef</th>     <th>std err</th>      <th>t</th>      <th>P>|t|</th>  <th>[0.025</th>    <th>0.975]</th>  \n",
       "</tr>\n",
       "<tr>\n",
       "  <th>Intercept</th> <td> 8970.2224</td> <td> 6035.129</td> <td>    1.486</td> <td> 0.138</td> <td>-2904.036</td> <td> 2.08e+04</td>\n",
       "</tr>\n",
       "<tr>\n",
       "  <th>NO2</th>       <td> 2.223e+06</td> <td> 2.38e+05</td> <td>    9.341</td> <td> 0.000</td> <td> 1.76e+06</td> <td> 2.69e+06</td>\n",
       "</tr>\n",
       "<tr>\n",
       "  <th>평균기온</th>      <td>  165.6458</td> <td>  135.021</td> <td>    1.227</td> <td> 0.221</td> <td> -100.010</td> <td>  431.302</td>\n",
       "</tr>\n",
       "<tr>\n",
       "  <th>월합강수량</th>     <td>  -12.5156</td> <td>    8.959</td> <td>   -1.397</td> <td> 0.163</td> <td>  -30.143</td> <td>    5.111</td>\n",
       "</tr>\n",
       "<tr>\n",
       "  <th>광주</th>        <td>-1.822e+04</td> <td> 1523.267</td> <td>  -11.961</td> <td> 0.000</td> <td>-2.12e+04</td> <td>-1.52e+04</td>\n",
       "</tr>\n",
       "<tr>\n",
       "  <th>대구</th>        <td>-1.012e+04</td> <td> 1664.605</td> <td>   -6.081</td> <td> 0.000</td> <td>-1.34e+04</td> <td>-6846.491</td>\n",
       "</tr>\n",
       "<tr>\n",
       "  <th>대전</th>        <td>-2.634e+04</td> <td> 1513.598</td> <td>  -17.404</td> <td> 0.000</td> <td>-2.93e+04</td> <td>-2.34e+04</td>\n",
       "</tr>\n",
       "<tr>\n",
       "  <th>부산</th>        <td> 3716.2483</td> <td> 1650.141</td> <td>    2.252</td> <td> 0.025</td> <td>  469.558</td> <td> 6962.939</td>\n",
       "</tr>\n",
       "<tr>\n",
       "  <th>서울</th>        <td> 7.261e+04</td> <td> 3323.905</td> <td>   21.846</td> <td> 0.000</td> <td> 6.61e+04</td> <td> 7.92e+04</td>\n",
       "</tr>\n",
       "<tr>\n",
       "  <th>인천</th>        <td>-1.268e+04</td> <td> 2172.699</td> <td>   -5.834</td> <td> 0.000</td> <td>-1.69e+04</td> <td>-8400.171</td>\n",
       "</tr>\n",
       "</table>\n",
       "<table class=\"simpletable\">\n",
       "<tr>\n",
       "  <th>Omnibus:</th>       <td>32.810</td> <th>  Durbin-Watson:     </th> <td>   0.996</td>\n",
       "</tr>\n",
       "<tr>\n",
       "  <th>Prob(Omnibus):</th> <td> 0.000</td> <th>  Jarque-Bera (JB):  </th> <td> 151.573</td>\n",
       "</tr>\n",
       "<tr>\n",
       "  <th>Skew:</th>          <td> 0.189</td> <th>  Prob(JB):          </th> <td>1.22e-33</td>\n",
       "</tr>\n",
       "<tr>\n",
       "  <th>Kurtosis:</th>      <td> 6.329</td> <th>  Cond. No.          </th> <td>7.44e+17</td>\n",
       "</tr>\n",
       "</table><br/><br/>Notes:<br/>[1] Standard Errors assume that the covariance matrix of the errors is correctly specified.<br/>[2] The smallest eigenvalue is 1.01e-29. This might indicate that there are<br/>strong multicollinearity problems or that the design matrix is singular."
      ],
      "text/plain": [
       "<class 'statsmodels.iolib.summary.Summary'>\n",
       "\"\"\"\n",
       "                            OLS Regression Results                            \n",
       "==============================================================================\n",
       "Dep. Variable:                   발생건수   R-squared:                       0.929\n",
       "Model:                            OLS   Adj. R-squared:                  0.928\n",
       "Method:                 Least Squares   F-statistic:                     518.9\n",
       "Date:                Sun, 30 May 2021   Prob (F-statistic):          2.28e-176\n",
       "Time:                        14:55:47   Log-Likelihood:                -3501.3\n",
       "No. Observations:                 324   AIC:                             7021.\n",
       "Df Residuals:                     315   BIC:                             7055.\n",
       "Df Model:                           8                                         \n",
       "Covariance Type:            nonrobust                                         \n",
       "==============================================================================\n",
       "                 coef    std err          t      P>|t|      [0.025      0.975]\n",
       "------------------------------------------------------------------------------\n",
       "Intercept   8970.2224   6035.129      1.486      0.138   -2904.036    2.08e+04\n",
       "NO2         2.223e+06   2.38e+05      9.341      0.000    1.76e+06    2.69e+06\n",
       "평균기온         165.6458    135.021      1.227      0.221    -100.010     431.302\n",
       "월합강수량        -12.5156      8.959     -1.397      0.163     -30.143       5.111\n",
       "광주         -1.822e+04   1523.267    -11.961      0.000   -2.12e+04   -1.52e+04\n",
       "대구         -1.012e+04   1664.605     -6.081      0.000   -1.34e+04   -6846.491\n",
       "대전         -2.634e+04   1513.598    -17.404      0.000   -2.93e+04   -2.34e+04\n",
       "부산          3716.2483   1650.141      2.252      0.025     469.558    6962.939\n",
       "서울          7.261e+04   3323.905     21.846      0.000    6.61e+04    7.92e+04\n",
       "인천         -1.268e+04   2172.699     -5.834      0.000   -1.69e+04   -8400.171\n",
       "==============================================================================\n",
       "Omnibus:                       32.810   Durbin-Watson:                   0.996\n",
       "Prob(Omnibus):                  0.000   Jarque-Bera (JB):              151.573\n",
       "Skew:                           0.189   Prob(JB):                     1.22e-33\n",
       "Kurtosis:                       6.329   Cond. No.                     7.44e+17\n",
       "==============================================================================\n",
       "\n",
       "Notes:\n",
       "[1] Standard Errors assume that the covariance matrix of the errors is correctly specified.\n",
       "[2] The smallest eigenvalue is 1.01e-29. This might indicate that there are\n",
       "strong multicollinearity problems or that the design matrix is singular.\n",
       "\"\"\""
      ]
     },
     "execution_count": 132,
     "metadata": {},
     "output_type": "execute_result"
    }
   ],
   "source": [
    "res2 = ols('발생건수 ~ NO2+평균기온+월합강수량+광주+대구+대전+부산+서울+인천',\n",
    "          data=data_w).fit()\n",
    "res2.summary()"
   ]
  },
  {
   "cell_type": "code",
   "execution_count": 134,
   "id": "e03185e1",
   "metadata": {},
   "outputs": [
    {
     "data": {
      "image/png": "[encoded data removed]",
      "text/plain": [
       "<Figure size 432x288 with 1 Axes>"
      ]
     },
     "metadata": {
      "needs_background": "light"
     },
     "output_type": "display_data"
    }
   ],
   "source": [
    "import numpy as np\n",
    "plt.plot(np.array(res2.predict(data_w[['NO2','평균기온','월합강수량',\n",
    "                                      '광주','대구','대전','부산',\n",
    "                                      '서울','인천']])),label = \"pred\")\n",
    "plt.plot(np.array(data_w['발생건수']),label = \"true\")\n",
    "plt.legend()\n",
    "plt.show()"
   ]
  },
  {
   "cell_type": "code",
   "execution_count": 135,
   "id": "6094d546",
   "metadata": {},
   "outputs": [],
   "source": [
    "# 알스퀘어 향상"
   ]
  },
  {
   "cell_type": "code",
   "execution_count": null,
   "id": "cbd25683",
   "metadata": {},
   "outputs": [],
   "source": []
  }
 ],
 "metadata": {
  "kernelspec": {
   "display_name": "Python 3",
   "language": "python",
   "name": "python3"
  },
  "language_info": {
   "codemirror_mode": {
    "name": "ipython",
    "version": 3
   },
   "file_extension": ".py",
   "mimetype": "text/x-python",
   "name": "python",
   "nbconvert_exporter": "python",
   "pygments_lexer": "ipython3",
   "version": "3.9.4"
  }
 },
 "nbformat": 4,
 "nbformat_minor": 5
}
