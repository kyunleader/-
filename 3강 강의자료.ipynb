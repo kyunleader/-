{
 "cells": [
  {
   "cell_type": "markdown",
   "id": "6cdfd69b",
   "metadata": {},
   "source": [
    "# 데이터 분석\n",
    "\n",
    "## t - test"
   ]
  },
  {
   "cell_type": "code",
   "execution_count": 5,
   "id": "69c78c17",
   "metadata": {},
   "outputs": [
    {
     "name": "stdout",
     "output_type": "stream",
     "text": [
      "Requirement already satisfied: scipy in c:\\users\\kyun\\appdata\\local\\programs\\python\\python39\\lib\\site-packages (1.6.2)\n",
      "Requirement already satisfied: numpy<1.23.0,>=1.16.5 in c:\\users\\kyun\\appdata\\local\\programs\\python\\python39\\lib\\site-packages (from scipy) (1.20.2)\n",
      "Note: you may need to restart the kernel to use updated packages.\n"
     ]
    }
   ],
   "source": [
    "# 통계 검정에 필요한 패키지 다운\n",
    "pip install scipy"
   ]
  },
  {
   "cell_type": "code",
   "execution_count": 1,
   "id": "536e84c4",
   "metadata": {},
   "outputs": [],
   "source": [
    "#필요한 패키지 임포트\n",
    "import pandas as pd\n",
    "from scipy import stats\n",
    "import matplotlib.pyplot as plt\n",
    "import seaborn as sns"
   ]
  },
  {
   "cell_type": "code",
   "execution_count": 2,
   "id": "cf03c51e",
   "metadata": {},
   "outputs": [
    {
     "data": {
      "text/html": [
       "<div>\n",
       "<style scoped>\n",
       "    .dataframe tbody tr th:only-of-type {\n",
       "        vertical-align: middle;\n",
       "    }\n",
       "\n",
       "    .dataframe tbody tr th {\n",
       "        vertical-align: top;\n",
       "    }\n",
       "\n",
       "    .dataframe thead th {\n",
       "        text-align: right;\n",
       "    }\n",
       "</style>\n",
       "<table border=\"1\" class=\"dataframe\">\n",
       "  <thead>\n",
       "    <tr style=\"text-align: right;\">\n",
       "      <th></th>\n",
       "      <th>case</th>\n",
       "      <th>sex</th>\n",
       "      <th>army</th>\n",
       "      <th>age</th>\n",
       "      <th>grade</th>\n",
       "      <th>couple</th>\n",
       "      <th>live</th>\n",
       "      <th>eat</th>\n",
       "      <th>entertainment</th>\n",
       "      <th>fashion/shopping</th>\n",
       "      <th>...</th>\n",
       "      <th>10_6</th>\n",
       "      <th>10_7</th>\n",
       "      <th>10_8</th>\n",
       "      <th>10_9</th>\n",
       "      <th>10_10</th>\n",
       "      <th>10_11</th>\n",
       "      <th>11</th>\n",
       "      <th>12</th>\n",
       "      <th>13</th>\n",
       "      <th>14</th>\n",
       "    </tr>\n",
       "  </thead>\n",
       "  <tbody>\n",
       "    <tr>\n",
       "      <th>0</th>\n",
       "      <td>1</td>\n",
       "      <td>2</td>\n",
       "      <td>2</td>\n",
       "      <td>20</td>\n",
       "      <td>3</td>\n",
       "      <td>2</td>\n",
       "      <td>2</td>\n",
       "      <td>10.0</td>\n",
       "      <td>5.0</td>\n",
       "      <td>20.0</td>\n",
       "      <td>...</td>\n",
       "      <td>0</td>\n",
       "      <td>1</td>\n",
       "      <td>0.0</td>\n",
       "      <td>0</td>\n",
       "      <td>1</td>\n",
       "      <td>0</td>\n",
       "      <td>3</td>\n",
       "      <td>3</td>\n",
       "      <td>5</td>\n",
       "      <td>4</td>\n",
       "    </tr>\n",
       "    <tr>\n",
       "      <th>1</th>\n",
       "      <td>2</td>\n",
       "      <td>2</td>\n",
       "      <td>3</td>\n",
       "      <td>23</td>\n",
       "      <td>3</td>\n",
       "      <td>2</td>\n",
       "      <td>1</td>\n",
       "      <td>15.0</td>\n",
       "      <td>0.0</td>\n",
       "      <td>10.0</td>\n",
       "      <td>...</td>\n",
       "      <td>1</td>\n",
       "      <td>0</td>\n",
       "      <td>0.0</td>\n",
       "      <td>0</td>\n",
       "      <td>0</td>\n",
       "      <td>0</td>\n",
       "      <td>6</td>\n",
       "      <td>5</td>\n",
       "      <td>4</td>\n",
       "      <td>9</td>\n",
       "    </tr>\n",
       "    <tr>\n",
       "      <th>2</th>\n",
       "      <td>3</td>\n",
       "      <td>1</td>\n",
       "      <td>1</td>\n",
       "      <td>21</td>\n",
       "      <td>2</td>\n",
       "      <td>2</td>\n",
       "      <td>1</td>\n",
       "      <td>20.0</td>\n",
       "      <td>10.0</td>\n",
       "      <td>10.0</td>\n",
       "      <td>...</td>\n",
       "      <td>0</td>\n",
       "      <td>0</td>\n",
       "      <td>0.0</td>\n",
       "      <td>0</td>\n",
       "      <td>0</td>\n",
       "      <td>0</td>\n",
       "      <td>3</td>\n",
       "      <td>5</td>\n",
       "      <td>8</td>\n",
       "      <td>3</td>\n",
       "    </tr>\n",
       "    <tr>\n",
       "      <th>3</th>\n",
       "      <td>4</td>\n",
       "      <td>2</td>\n",
       "      <td>3</td>\n",
       "      <td>20</td>\n",
       "      <td>2</td>\n",
       "      <td>2</td>\n",
       "      <td>2</td>\n",
       "      <td>10.0</td>\n",
       "      <td>0.0</td>\n",
       "      <td>2.0</td>\n",
       "      <td>...</td>\n",
       "      <td>0</td>\n",
       "      <td>0</td>\n",
       "      <td>0.0</td>\n",
       "      <td>0</td>\n",
       "      <td>0</td>\n",
       "      <td>1</td>\n",
       "      <td>8</td>\n",
       "      <td>7</td>\n",
       "      <td>2</td>\n",
       "      <td>2</td>\n",
       "    </tr>\n",
       "    <tr>\n",
       "      <th>4</th>\n",
       "      <td>5</td>\n",
       "      <td>1</td>\n",
       "      <td>1</td>\n",
       "      <td>25</td>\n",
       "      <td>4</td>\n",
       "      <td>2</td>\n",
       "      <td>1</td>\n",
       "      <td>20.0</td>\n",
       "      <td>10.0</td>\n",
       "      <td>0.0</td>\n",
       "      <td>...</td>\n",
       "      <td>0</td>\n",
       "      <td>0</td>\n",
       "      <td>0.0</td>\n",
       "      <td>0</td>\n",
       "      <td>0</td>\n",
       "      <td>1</td>\n",
       "      <td>7</td>\n",
       "      <td>6</td>\n",
       "      <td>4</td>\n",
       "      <td>5</td>\n",
       "    </tr>\n",
       "  </tbody>\n",
       "</table>\n",
       "<p>5 rows × 43 columns</p>\n",
       "</div>"
      ],
      "text/plain": [
       "   case  sex  army  age  grade  couple  live   eat  entertainment  \\\n",
       "0     1    2     2   20      3       2     2  10.0            5.0   \n",
       "1     2    2     3   23      3       2     1  15.0            0.0   \n",
       "2     3    1     1   21      2       2     1  20.0           10.0   \n",
       "3     4    2     3   20      2       2     2  10.0            0.0   \n",
       "4     5    1     1   25      4       2     1  20.0           10.0   \n",
       "\n",
       "   fashion/shopping  ...  10_6  10_7  10_8  10_9  10_10  10_11  11  12  13  14  \n",
       "0              20.0  ...     0     1   0.0     0      1      0   3   3   5   4  \n",
       "1              10.0  ...     1     0   0.0     0      0      0   6   5   4   9  \n",
       "2              10.0  ...     0     0   0.0     0      0      0   3   5   8   3  \n",
       "3               2.0  ...     0     0   0.0     0      0      1   8   7   2   2  \n",
       "4               0.0  ...     0     0   0.0     0      0      1   7   6   4   5  \n",
       "\n",
       "[5 rows x 43 columns]"
      ]
     },
     "execution_count": 2,
     "metadata": {},
     "output_type": "execute_result"
    }
   ],
   "source": [
    "# 데이터 불러오기\n",
    "data = pd.read_excel('data_research.xlsx')\n",
    "data.head()"
   ]
  },
  {
   "cell_type": "code",
   "execution_count": 3,
   "id": "1608e40c",
   "metadata": {},
   "outputs": [
    {
     "data": {
      "text/html": [
       "<div>\n",
       "<style scoped>\n",
       "    .dataframe tbody tr th:only-of-type {\n",
       "        vertical-align: middle;\n",
       "    }\n",
       "\n",
       "    .dataframe tbody tr th {\n",
       "        vertical-align: top;\n",
       "    }\n",
       "\n",
       "    .dataframe thead th {\n",
       "        text-align: right;\n",
       "    }\n",
       "</style>\n",
       "<table border=\"1\" class=\"dataframe\">\n",
       "  <thead>\n",
       "    <tr style=\"text-align: right;\">\n",
       "      <th></th>\n",
       "      <th>case</th>\n",
       "      <th>sex</th>\n",
       "      <th>army</th>\n",
       "      <th>age</th>\n",
       "      <th>grade</th>\n",
       "      <th>couple</th>\n",
       "      <th>live</th>\n",
       "      <th>eat</th>\n",
       "      <th>entertainment</th>\n",
       "      <th>fashion/shopping</th>\n",
       "      <th>...</th>\n",
       "      <th>10_6</th>\n",
       "      <th>10_7</th>\n",
       "      <th>10_8</th>\n",
       "      <th>10_9</th>\n",
       "      <th>10_10</th>\n",
       "      <th>10_11</th>\n",
       "      <th>11</th>\n",
       "      <th>12</th>\n",
       "      <th>13</th>\n",
       "      <th>14</th>\n",
       "    </tr>\n",
       "  </thead>\n",
       "  <tbody>\n",
       "    <tr>\n",
       "      <th>0</th>\n",
       "      <td>1</td>\n",
       "      <td>여자</td>\n",
       "      <td>2</td>\n",
       "      <td>20</td>\n",
       "      <td>3</td>\n",
       "      <td>2</td>\n",
       "      <td>2</td>\n",
       "      <td>10.0</td>\n",
       "      <td>5.0</td>\n",
       "      <td>20.0</td>\n",
       "      <td>...</td>\n",
       "      <td>0</td>\n",
       "      <td>1</td>\n",
       "      <td>0.0</td>\n",
       "      <td>0</td>\n",
       "      <td>1</td>\n",
       "      <td>0</td>\n",
       "      <td>3</td>\n",
       "      <td>3</td>\n",
       "      <td>5</td>\n",
       "      <td>4</td>\n",
       "    </tr>\n",
       "    <tr>\n",
       "      <th>1</th>\n",
       "      <td>2</td>\n",
       "      <td>여자</td>\n",
       "      <td>3</td>\n",
       "      <td>23</td>\n",
       "      <td>3</td>\n",
       "      <td>2</td>\n",
       "      <td>1</td>\n",
       "      <td>15.0</td>\n",
       "      <td>0.0</td>\n",
       "      <td>10.0</td>\n",
       "      <td>...</td>\n",
       "      <td>1</td>\n",
       "      <td>0</td>\n",
       "      <td>0.0</td>\n",
       "      <td>0</td>\n",
       "      <td>0</td>\n",
       "      <td>0</td>\n",
       "      <td>6</td>\n",
       "      <td>5</td>\n",
       "      <td>4</td>\n",
       "      <td>9</td>\n",
       "    </tr>\n",
       "    <tr>\n",
       "      <th>2</th>\n",
       "      <td>3</td>\n",
       "      <td>남자</td>\n",
       "      <td>1</td>\n",
       "      <td>21</td>\n",
       "      <td>2</td>\n",
       "      <td>2</td>\n",
       "      <td>1</td>\n",
       "      <td>20.0</td>\n",
       "      <td>10.0</td>\n",
       "      <td>10.0</td>\n",
       "      <td>...</td>\n",
       "      <td>0</td>\n",
       "      <td>0</td>\n",
       "      <td>0.0</td>\n",
       "      <td>0</td>\n",
       "      <td>0</td>\n",
       "      <td>0</td>\n",
       "      <td>3</td>\n",
       "      <td>5</td>\n",
       "      <td>8</td>\n",
       "      <td>3</td>\n",
       "    </tr>\n",
       "    <tr>\n",
       "      <th>3</th>\n",
       "      <td>4</td>\n",
       "      <td>여자</td>\n",
       "      <td>3</td>\n",
       "      <td>20</td>\n",
       "      <td>2</td>\n",
       "      <td>2</td>\n",
       "      <td>2</td>\n",
       "      <td>10.0</td>\n",
       "      <td>0.0</td>\n",
       "      <td>2.0</td>\n",
       "      <td>...</td>\n",
       "      <td>0</td>\n",
       "      <td>0</td>\n",
       "      <td>0.0</td>\n",
       "      <td>0</td>\n",
       "      <td>0</td>\n",
       "      <td>1</td>\n",
       "      <td>8</td>\n",
       "      <td>7</td>\n",
       "      <td>2</td>\n",
       "      <td>2</td>\n",
       "    </tr>\n",
       "    <tr>\n",
       "      <th>4</th>\n",
       "      <td>5</td>\n",
       "      <td>남자</td>\n",
       "      <td>1</td>\n",
       "      <td>25</td>\n",
       "      <td>4</td>\n",
       "      <td>2</td>\n",
       "      <td>1</td>\n",
       "      <td>20.0</td>\n",
       "      <td>10.0</td>\n",
       "      <td>0.0</td>\n",
       "      <td>...</td>\n",
       "      <td>0</td>\n",
       "      <td>0</td>\n",
       "      <td>0.0</td>\n",
       "      <td>0</td>\n",
       "      <td>0</td>\n",
       "      <td>1</td>\n",
       "      <td>7</td>\n",
       "      <td>6</td>\n",
       "      <td>4</td>\n",
       "      <td>5</td>\n",
       "    </tr>\n",
       "  </tbody>\n",
       "</table>\n",
       "<p>5 rows × 43 columns</p>\n",
       "</div>"
      ],
      "text/plain": [
       "   case sex  army  age  grade  couple  live   eat  entertainment  \\\n",
       "0     1  여자     2   20      3       2     2  10.0            5.0   \n",
       "1     2  여자     3   23      3       2     1  15.0            0.0   \n",
       "2     3  남자     1   21      2       2     1  20.0           10.0   \n",
       "3     4  여자     3   20      2       2     2  10.0            0.0   \n",
       "4     5  남자     1   25      4       2     1  20.0           10.0   \n",
       "\n",
       "   fashion/shopping  ...  10_6  10_7  10_8  10_9  10_10  10_11  11  12  13  14  \n",
       "0              20.0  ...     0     1   0.0     0      1      0   3   3   5   4  \n",
       "1              10.0  ...     1     0   0.0     0      0      0   6   5   4   9  \n",
       "2              10.0  ...     0     0   0.0     0      0      0   3   5   8   3  \n",
       "3               2.0  ...     0     0   0.0     0      0      1   8   7   2   2  \n",
       "4               0.0  ...     0     0   0.0     0      0      1   7   6   4   5  \n",
       "\n",
       "[5 rows x 43 columns]"
      ]
     },
     "execution_count": 3,
     "metadata": {},
     "output_type": "execute_result"
    }
   ],
   "source": [
    "# 남여 한글로 바꾸기\n",
    "\n",
    "data.loc[data['sex'] == 1,'sex'] = '남자'\n",
    "data.loc[data['sex'] == 2,'sex'] = '여자'\n",
    "\n",
    "data.head()"
   ]
  },
  {
   "cell_type": "code",
   "execution_count": 4,
   "id": "97703ee6",
   "metadata": {},
   "outputs": [
    {
     "name": "stdout",
     "output_type": "stream",
     "text": [
      "Ttest_1sampResult(statistic=8.7835045343761, pvalue=3.653985656242255e-17)\n",
      "t : 8.784 \n",
      "p-value : 0.00000000000000004\n"
     ]
    }
   ],
   "source": [
    "# 일표본 t 검정\n",
    "# 평균이 내가 생각한 값이라고 할 수 있는지\n",
    "result = stats.ttest_1samp(data['eat'], 15)\n",
    "print(result)\n",
    "print('t : {:.3f} \\np-value : {:.17f}'.format(result[0], result[1]))"
   ]
  },
  {
   "cell_type": "code",
   "execution_count": 5,
   "id": "2112792f",
   "metadata": {},
   "outputs": [
    {
     "name": "stdout",
     "output_type": "stream",
     "text": [
      "LeveneResult(statistic=0.16574068599870195, pvalue=0.6841255249275369)\n"
     ]
    }
   ],
   "source": [
    "# 독립표본 t 검정\n",
    "# 두 집간의 평균의 차이가 있는지\n",
    "\n",
    "# 등분산 검정\n",
    "\n",
    "result = stats.levene(data.loc[data['sex'] == '남자', 'eat'],\n",
    "                     data.loc[data['sex'] == '여자', 'eat'])\n",
    "print(result)"
   ]
  },
  {
   "cell_type": "code",
   "execution_count": 6,
   "id": "69d6a086",
   "metadata": {},
   "outputs": [
    {
     "name": "stdout",
     "output_type": "stream",
     "text": [
      "Ttest_indResult(statistic=1.5330534041687252, pvalue=0.12598963041683306)\n"
     ]
    }
   ],
   "source": [
    "# 독립표폰 t 검정\n",
    "\n",
    "# 식비 비교\n",
    "result = stats.ttest_ind(data.loc[data['sex'] == '남자', 'eat'],\n",
    "                     data.loc[data['sex'] == '여자', 'eat'],\n",
    "                         equal_var=True)\n",
    "print(result)"
   ]
  },
  {
   "cell_type": "code",
   "execution_count": 7,
   "id": "5b4ed9d6",
   "metadata": {},
   "outputs": [
    {
     "name": "stdout",
     "output_type": "stream",
     "text": [
      "LeveneResult(statistic=0.34156596215821233, pvalue=0.5592296823462897)\n",
      "Ttest_indResult(statistic=-3.714609382613695, pvalue=0.00023021209481849391)\n"
     ]
    }
   ],
   "source": [
    "# 패션/쇼핑 비교\n",
    "result = stats.levene(data.loc[data['sex'] == '남자', 'fashion/shopping'],\n",
    "                     data.loc[data['sex'] == '여자', 'fashion/shopping'])\n",
    "print(result)\n",
    "\n",
    "\n",
    "\n",
    "result = stats.ttest_ind(data.loc[data['sex'] == '남자', 'fashion/shopping'],\n",
    "                     data.loc[data['sex'] == '여자', 'fashion/shopping'],\n",
    "                         equal_var=False)\n",
    "print(result)"
   ]
  },
  {
   "cell_type": "code",
   "execution_count": 8,
   "id": "b04d7ec5",
   "metadata": {},
   "outputs": [],
   "source": [
    "# 아노바 검정 ( 분산 분석 )"
   ]
  },
  {
   "cell_type": "code",
   "execution_count": 9,
   "id": "7bc98bd8",
   "metadata": {},
   "outputs": [
    {
     "data": {
      "text/plain": [
       "age\n",
       "19    141\n",
       "20    115\n",
       "21     54\n",
       "23     41\n",
       "22     31\n",
       "24     24\n",
       "18     16\n",
       "25     11\n",
       "26      2\n",
       "28      2\n",
       "dtype: int64"
      ]
     },
     "execution_count": 9,
     "metadata": {},
     "output_type": "execute_result"
    }
   ],
   "source": [
    "data.value_counts('age')"
   ]
  },
  {
   "cell_type": "code",
   "execution_count": 13,
   "id": "01703e4a",
   "metadata": {},
   "outputs": [],
   "source": [
    "# 만 19,20,21살을 대상으로 비교\n",
    "group19 = data[data['age'] == 19]\n",
    "group20 = data[data['age'] == 20]\n",
    "group21 = data[data['age'] == 21]"
   ]
  },
  {
   "cell_type": "code",
   "execution_count": 20,
   "id": "f926df89",
   "metadata": {},
   "outputs": [
    {
     "data": {
      "image/png": "[encoded data removed]",
      "text/plain": [
       "<Figure size 432x288 with 1 Axes>"
      ]
     },
     "metadata": {
      "needs_background": "light"
     },
     "output_type": "display_data"
    }
   ],
   "source": [
    "plt.boxplot([group19['eat'], group20['eat'], group21['eat']])\n",
    "plt.show()"
   ]
  },
  {
   "cell_type": "code",
   "execution_count": null,
   "id": "4ef71dfc",
   "metadata": {},
   "outputs": [],
   "source": [
    "# h0 : 나이별 식비의 차이는 없을 것이다.\n",
    "# h1 : 나이별 식비의 차이가 있을 것이다."
   ]
  },
  {
   "cell_type": "code",
   "execution_count": 21,
   "id": "3115f40f",
   "metadata": {},
   "outputs": [
    {
     "name": "stdout",
     "output_type": "stream",
     "text": [
      "F_onewayResult(statistic=1.2073494089591137, pvalue=0.30040432057699173)\n"
     ]
    }
   ],
   "source": [
    "# 일원 분산 분석\n",
    "result = stats.f_oneway(group19['eat'], group20['eat'], group21['eat'])\n",
    "print(result)"
   ]
  },
  {
   "cell_type": "code",
   "execution_count": 31,
   "id": "8f58cdae",
   "metadata": {},
   "outputs": [
    {
     "name": "stdout",
     "output_type": "stream",
     "text": [
      "F_onewayResult(statistic=4.414800080310521, pvalue=0.012874523203138928)\n"
     ]
    }
   ],
   "source": [
    "# 토탈 소비금액으로 비교\n",
    "\n",
    "# 일원 분산 분석\n",
    "result = stats.f_oneway(group19['total'], group20['total'], group21['total'])\n",
    "print(result)"
   ]
  },
  {
   "cell_type": "markdown",
   "id": "2e84c5fd",
   "metadata": {},
   "source": [
    "### 19살 20살 21살의 식비는 같으나 총 소비금액은 다르다고 할 수 있다."
   ]
  },
  {
   "cell_type": "code",
   "execution_count": null,
   "id": "d0d45eba",
   "metadata": {},
   "outputs": [],
   "source": []
  },
  {
   "cell_type": "markdown",
   "id": "1d5976e9",
   "metadata": {},
   "source": [
    "## 카이제곱 테스트\n"
   ]
  },
  {
   "cell_type": "code",
   "execution_count": 34,
   "id": "2802a8f7",
   "metadata": {},
   "outputs": [
    {
     "data": {
      "text/plain": [
       "Index([             'case',               'sex',              'army',\n",
       "                     'age',             'grade',            'couple',\n",
       "                    'live',               'eat',     'entertainment',\n",
       "        'fashion/shopping',           'culture',            'beauty',\n",
       "                     'edu',           'healthy',              'life',\n",
       "                  'saving',             'total',              'eat2',\n",
       "          'entertainment2', 'fashion/shopping2',          'culture2',\n",
       "                 'beauty2',              'edu2',          'healthy2',\n",
       "                   'life2',           'saving2',            'total2',\n",
       "                         9,              '10_1',              '10_2',\n",
       "                    '10_3',              '10_4',              '10_5',\n",
       "                    '10_6',              '10_7',              '10_8',\n",
       "                    '10_9',             '10_10',             '10_11',\n",
       "                        11,                  12,                  13,\n",
       "                        14],\n",
       "      dtype='object')"
      ]
     },
     "execution_count": 34,
     "metadata": {},
     "output_type": "execute_result"
    }
   ],
   "source": [
    "data.columns"
   ]
  },
  {
   "cell_type": "markdown",
   "id": "45502dfb",
   "metadata": {},
   "source": [
    "### 남여에 따라 커플, 솔로가 차이가 있는지 카이제곱 검정으로 알아보자 "
   ]
  },
  {
   "cell_type": "code",
   "execution_count": 36,
   "id": "e642a629",
   "metadata": {},
   "outputs": [
    {
     "data": {
      "text/html": [
       "<div>\n",
       "<style scoped>\n",
       "    .dataframe tbody tr th:only-of-type {\n",
       "        vertical-align: middle;\n",
       "    }\n",
       "\n",
       "    .dataframe tbody tr th {\n",
       "        vertical-align: top;\n",
       "    }\n",
       "\n",
       "    .dataframe thead th {\n",
       "        text-align: right;\n",
       "    }\n",
       "</style>\n",
       "<table border=\"1\" class=\"dataframe\">\n",
       "  <thead>\n",
       "    <tr style=\"text-align: right;\">\n",
       "      <th>couple</th>\n",
       "      <th>솔로</th>\n",
       "      <th>커플</th>\n",
       "    </tr>\n",
       "    <tr>\n",
       "      <th>sex</th>\n",
       "      <th></th>\n",
       "      <th></th>\n",
       "    </tr>\n",
       "  </thead>\n",
       "  <tbody>\n",
       "    <tr>\n",
       "      <th>남자</th>\n",
       "      <td>168</td>\n",
       "      <td>40</td>\n",
       "    </tr>\n",
       "    <tr>\n",
       "      <th>여자</th>\n",
       "      <td>156</td>\n",
       "      <td>73</td>\n",
       "    </tr>\n",
       "  </tbody>\n",
       "</table>\n",
       "</div>"
      ],
      "text/plain": [
       "couple   솔로  커플\n",
       "sex            \n",
       "남자      168  40\n",
       "여자      156  73"
      ]
     },
     "execution_count": 36,
     "metadata": {},
     "output_type": "execute_result"
    }
   ],
   "source": [
    "# 커플 한글로 바꾸기\n",
    "\n",
    "data.loc[data['couple'] == 1,'couple'] = '커플'\n",
    "data.loc[data['couple'] == 2,'couple'] = '솔로'\n",
    "\n",
    "\n",
    "\n",
    "# 카이제곱 분석을 위한 교차표 만들기\n",
    "\n",
    "table = pd.crosstab(data['sex'],data['couple'])\n",
    "table"
   ]
  },
  {
   "cell_type": "code",
   "execution_count": 37,
   "id": "dc892fda",
   "metadata": {},
   "outputs": [
    {
     "name": "stdout",
     "output_type": "stream",
     "text": [
      "(8.445753945909178, 0.003658967148629325, 1, array([[154.21510297,  53.78489703],\n",
      "       [169.78489703,  59.21510297]]))\n"
     ]
    }
   ],
   "source": [
    "result = stats.chi2_contingency(table)\n",
    "print(result)"
   ]
  },
  {
   "cell_type": "code",
   "execution_count": 43,
   "id": "6f9805de",
   "metadata": {},
   "outputs": [
    {
     "name": "stdout",
     "output_type": "stream",
     "text": [
      "카이 스퀘어 값 : 8.445753945909178\n",
      "p-value (0.05): 0.003658967148629325\n",
      "자유도 수: 1\n",
      "기대값: \n",
      "            0          1\n",
      "0  154.215103  53.784897\n",
      "1  169.784897  59.215103\n",
      "측정값: \n",
      "couple   솔로  커플\n",
      "sex            \n",
      "남자      168  40\n",
      "여자      156  73\n"
     ]
    }
   ],
   "source": [
    "# 문자 앞에 f를 붙이면 중괄호안에 변수 넣기 가능 f-string\n",
    "print(f'카이 스퀘어 값 : {result[0]}',\n",
    "      f\"p-value (0.05): {result[1]}\",\n",
    "      f\"자유도 수: {result[2]}\",\n",
    "      f\"기대값: \\n{pd.DataFrame(result[3])}\",\n",
    "      f\"측정값: \\n{table}\", sep = \"\\n\")"
   ]
  },
  {
   "cell_type": "code",
   "execution_count": 45,
   "id": "aaa2e28d",
   "metadata": {},
   "outputs": [
    {
     "ename": "AttributeError",
     "evalue": "module 'matplotlib.pyplot' has no attribute 'barplot'",
     "output_type": "error",
     "traceback": [
      "\u001b[1;31m---------------------------------------------------------------------------\u001b[0m",
      "\u001b[1;31mAttributeError\u001b[0m                            Traceback (most recent call last)",
      "\u001b[1;32m<ipython-input-45-a00a969b78f3>\u001b[0m in \u001b[0;36m<module>\u001b[1;34m\u001b[0m\n\u001b[0;32m      1\u001b[0m \u001b[1;31m# 시각화\u001b[0m\u001b[1;33m\u001b[0m\u001b[1;33m\u001b[0m\u001b[1;33m\u001b[0m\u001b[0m\n\u001b[0;32m      2\u001b[0m \u001b[1;33m\u001b[0m\u001b[0m\n\u001b[1;32m----> 3\u001b[1;33m \u001b[0mplt\u001b[0m\u001b[1;33m.\u001b[0m\u001b[0mbarplot\u001b[0m\u001b[1;33m(\u001b[0m\u001b[0mtable\u001b[0m\u001b[1;33m)\u001b[0m\u001b[1;33m\u001b[0m\u001b[1;33m\u001b[0m\u001b[0m\n\u001b[0m",
      "\u001b[1;31mAttributeError\u001b[0m: module 'matplotlib.pyplot' has no attribute 'barplot'"
     ]
    }
   ],
   "source": [
    "# 시각화\n",
    "\n",
    "plt.barplot(table)"
   ]
  },
  {
   "cell_type": "code",
   "execution_count": 52,
   "id": "098e487f",
   "metadata": {},
   "outputs": [],
   "source": [
    "chi_data = table.melt(ignore_index=False)"
   ]
  },
  {
   "cell_type": "code",
   "execution_count": 53,
   "id": "504e6551",
   "metadata": {},
   "outputs": [
    {
     "data": {
      "text/html": [
       "<div>\n",
       "<style scoped>\n",
       "    .dataframe tbody tr th:only-of-type {\n",
       "        vertical-align: middle;\n",
       "    }\n",
       "\n",
       "    .dataframe tbody tr th {\n",
       "        vertical-align: top;\n",
       "    }\n",
       "\n",
       "    .dataframe thead th {\n",
       "        text-align: right;\n",
       "    }\n",
       "</style>\n",
       "<table border=\"1\" class=\"dataframe\">\n",
       "  <thead>\n",
       "    <tr style=\"text-align: right;\">\n",
       "      <th></th>\n",
       "      <th>couple</th>\n",
       "      <th>value</th>\n",
       "    </tr>\n",
       "    <tr>\n",
       "      <th>sex</th>\n",
       "      <th></th>\n",
       "      <th></th>\n",
       "    </tr>\n",
       "  </thead>\n",
       "  <tbody>\n",
       "    <tr>\n",
       "      <th>남자</th>\n",
       "      <td>솔로</td>\n",
       "      <td>168</td>\n",
       "    </tr>\n",
       "    <tr>\n",
       "      <th>여자</th>\n",
       "      <td>솔로</td>\n",
       "      <td>156</td>\n",
       "    </tr>\n",
       "    <tr>\n",
       "      <th>남자</th>\n",
       "      <td>커플</td>\n",
       "      <td>40</td>\n",
       "    </tr>\n",
       "    <tr>\n",
       "      <th>여자</th>\n",
       "      <td>커플</td>\n",
       "      <td>73</td>\n",
       "    </tr>\n",
       "  </tbody>\n",
       "</table>\n",
       "</div>"
      ],
      "text/plain": [
       "    couple  value\n",
       "sex              \n",
       "남자      솔로    168\n",
       "여자      솔로    156\n",
       "남자      커플     40\n",
       "여자      커플     73"
      ]
     },
     "execution_count": 53,
     "metadata": {},
     "output_type": "execute_result"
    }
   ],
   "source": [
    "chi_data"
   ]
  },
  {
   "cell_type": "code",
   "execution_count": 64,
   "id": "809cbad4",
   "metadata": {},
   "outputs": [
    {
     "data": {
      "image/png": "[encoded data removed]",
      "text/plain": [
       "<Figure size 432x288 with 1 Axes>"
      ]
     },
     "metadata": {
      "needs_background": "light"
     },
     "output_type": "display_data"
    }
   ],
   "source": [
    "import matplotlib\n",
    "\n",
    "font_name = matplotlib.font_manager.FontProperties(fname='C:/Windows/Fonts/H2HDRM.TTF').get_name()\n",
    "matplotlib.rc('font', family=font_name)\n",
    "matplotlib.rcParams['axes.unicode_minus'] = False  # matplotlib 에 한국어 폰트 적용\n",
    "\n",
    "\n",
    "sns.barplot(x = chi_data.index , y='value', hue='couple', data=chi_data,\n",
    "           dodge=False)\n",
    "plt.show()"
   ]
  },
  {
   "cell_type": "code",
   "execution_count": null,
   "id": "42b37db3",
   "metadata": {},
   "outputs": [],
   "source": [
    "## 회귀분석"
   ]
  }
 ],
 "metadata": {
  "kernelspec": {
   "display_name": "Python 3",
   "language": "python",
   "name": "python3"
  },
  "language_info": {
   "codemirror_mode": {
    "name": "ipython",
    "version": 3
   },
   "file_extension": ".py",
   "mimetype": "text/x-python",
   "name": "python",
   "nbconvert_exporter": "python",
   "pygments_lexer": "ipython3",
   "version": "3.9.4"
  }
 },
 "nbformat": 4,
 "nbformat_minor": 5
}
